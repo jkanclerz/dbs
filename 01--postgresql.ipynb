{
 "cells": [
  {
   "cell_type": "markdown",
   "metadata": {
    "id": "zzoZX9kWhYh2"
   },
   "source": [
    "[![Open In Colab](https://colab.research.google.com/assets/colab-badge.svg)](https://githubtocolab.com/jkanclerz/dbs/blob/main/01--postgresql.ipynb)"
   ]
  },
  {
   "cell_type": "markdown",
   "metadata": {
    "id": "ZsMik6LdhcyC"
   },
   "source": [
    "## Instalacja PostgreSQL"
   ]
  },
  {
   "cell_type": "code",
   "execution_count": null,
   "metadata": {
    "colab": {
     "base_uri": "https://localhost:8080/"
    },
    "id": "VPV5aF2lhYh6",
    "outputId": "396657b7-6e77-4d1b-d118-fb4088e8f5e0"
   },
   "outputs": [],
   "source": [
    "!sudo apt-get -y -qq update\n",
    "!sudo apt-get -y -qq install postgresql\n",
    "!sudo service postgresql start"
   ]
  },
  {
   "cell_type": "code",
   "execution_count": null,
   "metadata": {
    "id": "zTjJObckhuBC"
   },
   "outputs": [],
   "source": [
    "## "
   ]
  },
  {
   "cell_type": "markdown",
   "metadata": {
    "id": "JJDjPrbAhvUQ"
   },
   "source": [
    "### Tworzenie użytkownika, bazy oraz przyznawanie uprawnień"
   ]
  },
  {
   "cell_type": "code",
   "execution_count": null,
   "metadata": {
    "colab": {
     "base_uri": "https://localhost:8080/"
    },
    "id": "DVN2WtRYstqE",
    "outputId": "49d439c8-8b2e-4937-f0fa-50908d958318"
   },
   "outputs": [],
   "source": [
    "!sudo -u postgres psql -c \"create user dbuser WITH encrypted password 'dbpw'\""
   ]
  },
  {
   "cell_type": "code",
   "execution_count": null,
   "metadata": {
    "colab": {
     "base_uri": "https://localhost:8080/"
    },
    "id": "0GayCtBQiueX",
    "outputId": "6702d68e-2ef2-4d0e-9af7-a777e77ff9d7"
   },
   "outputs": [],
   "source": [
    "!sudo -u postgres psql -c \"DROP database IF EXISTS db\"\n",
    "!sudo -u postgres psql -c \"create database db with OWNER dbuser\"\n",
    "!sudo -u postgres psql db -c \"GRANT ALL PRIVILEGES ON ALL TABLES IN SCHEMA public TO dbuser\""
   ]
  },
  {
   "cell_type": "markdown",
   "metadata": {
    "id": "sBfQsh7fjmW7"
   },
   "source": []
  },
  {
   "cell_type": "code",
   "execution_count": null,
   "metadata": {
    "colab": {
     "base_uri": "https://localhost:8080/"
    },
    "id": "9PYx4KjThYh7",
    "outputId": "51d407a5-61f9-47b1-b540-561242abb7de"
   },
   "outputs": [],
   "source": [
    "!pip install psycopg2"
   ]
  },
  {
   "cell_type": "code",
   "execution_count": null,
   "metadata": {
    "id": "T0zKgAQOhYh8"
   },
   "outputs": [],
   "source": [
    "import psycopg2"
   ]
  },
  {
   "cell_type": "code",
   "execution_count": null,
   "metadata": {
    "id": "O3hcqg0mhYh9"
   },
   "outputs": [],
   "source": [
    "connection = psycopg2.connect(user=\"dbuser\",\n",
    "                                  password=\"dbpw\",\n",
    "                                  host=\"127.0.0.1\",\n",
    "                                  port=\"5432\",\n",
    "                                  database=\"db\")"
   ]
  },
  {
   "cell_type": "code",
   "execution_count": null,
   "metadata": {
    "id": "4DW42VKbhYh9"
   },
   "outputs": [],
   "source": [
    "# Print PostgreSQL version\n",
    "cursor = connection.cursor()\n",
    "cursor.execute(\"SELECT version();\")\n",
    "record = cursor.fetchone()"
   ]
  },
  {
   "cell_type": "code",
   "execution_count": null,
   "metadata": {
    "colab": {
     "base_uri": "https://localhost:8080/"
    },
    "id": "AcQ1B2t6hYh-",
    "outputId": "1bb5c272-f14a-438a-b977-4d8b9475c8bb"
   },
   "outputs": [],
   "source": [
    "print(record)"
   ]
  },
  {
   "cell_type": "code",
   "execution_count": null,
   "metadata": {
    "id": "9aUwe92XhYh-"
   },
   "outputs": [],
   "source": [
    "create_table = '''\n",
    "DROP TABLE IF EXISTS Employee;\n",
    "CREATE TABLE IF NOT EXISTS Employee (\n",
    "  id SERIAL PRIMARY KEY,\n",
    "  name text NOT NULL,\n",
    "  sallary money NOT NULL\n",
    ")\n",
    "'''"
   ]
  },
  {
   "cell_type": "code",
   "execution_count": null,
   "metadata": {
    "id": "GCLx8OGhhYh_"
   },
   "outputs": [],
   "source": [
    "def connect_db():\n",
    "    connection = psycopg2.connect(user=\"dbuser\",\n",
    "                                  password=\"dbpw\",\n",
    "                                  host=\"127.0.0.1\",\n",
    "                                  port=\"5432\",\n",
    "                                  database=\"db\")\n",
    "    return connection"
   ]
  },
  {
   "cell_type": "code",
   "execution_count": null,
   "metadata": {
    "colab": {
     "base_uri": "https://localhost:8080/"
    },
    "id": "nCjyU7LehYiA",
    "outputId": "0b3a9a7e-8aa4-47f2-a662-2344484b8476"
   },
   "outputs": [],
   "source": [
    "try:\n",
    "    connection = connect_db()\n",
    "    cursor = connection.cursor()\n",
    "    cursor.execute(create_table)\n",
    "    connection.commit()\n",
    "except (Exception, psycopg2.DataError) as error:\n",
    "    print (\"Error while creating PostgreSQL table\", error)\n",
    "finally:\n",
    "    if(connection):\n",
    "        cursor.close()\n",
    "        connection.close()\n",
    "        print(\"PostgreSQL connection is closed\")"
   ]
  },
  {
   "cell_type": "code",
   "execution_count": null,
   "metadata": {
    "colab": {
     "base_uri": "https://localhost:8080/"
    },
    "id": "5jyWVEUzhYiA",
    "outputId": "7f64e42b-eeae-48c6-f463-27fb5d104a3e"
   },
   "outputs": [],
   "source": [
    "insert_sql = '''\n",
    "INSERT INTO Employee (name, sallary) VALUES (%s,%s)\n",
    "''';\n",
    "\n",
    "try:\n",
    "    connection = connect_db()\n",
    "    cursor = connection.cursor()\n",
    "    cursor.execute(insert_sql, (\"jakub\", 2500.00))\n",
    "    connection.commit()\n",
    "except (Exception, psycopg2.DataError) as error:\n",
    "    print (\"Error while inserting\", error)\n",
    "finally:\n",
    "    #closing database connection.\n",
    "    if(connection):\n",
    "        cursor.close()\n",
    "        connection.close()\n",
    "        print(\"PostgreSQL connection is closed\")"
   ]
  },
  {
   "cell_type": "code",
   "execution_count": null,
   "metadata": {
    "colab": {
     "base_uri": "https://localhost:8080/"
    },
    "id": "mMj_Yh_3hYiB",
    "outputId": "6f5e05c6-5542-4cab-91f3-4e23f3463338"
   },
   "outputs": [],
   "source": [
    "select = '''\n",
    "    select * from Employee;\n",
    "'''\n",
    "\n",
    "try:\n",
    "    connection = connect_db()\n",
    "    cursor = connection.cursor()\n",
    "    cursor.execute(select)\n",
    "    records = cursor.fetchall()\n",
    "except (Exception, psycopg2.DataError) as error:\n",
    "    print (\"Error while inserting\", error)\n",
    "finally:\n",
    "    #closing database connection.\n",
    "    if(connection):\n",
    "        cursor.close()\n",
    "        connection.close()\n",
    "        print(\"PostgreSQL connection is closed\")"
   ]
  },
  {
   "cell_type": "code",
   "execution_count": null,
   "metadata": {
    "colab": {
     "base_uri": "https://localhost:8080/"
    },
    "id": "1OhRbcGwhYiC",
    "outputId": "c8cab22f-709a-4d40-ce12-9f6b525059f2"
   },
   "outputs": [],
   "source": [
    "print(records)"
   ]
  },
  {
   "cell_type": "code",
   "execution_count": null,
   "metadata": {
    "colab": {
     "base_uri": "https://localhost:8080/"
    },
    "id": "_pfrgvs7nG2Q",
    "outputId": "e77dd9b7-b613-4264-e7b2-790b82f4552a"
   },
   "outputs": [],
   "source": [
    "!mkdir -p var/\n",
    "!wget https://s3.eu-central-1.amazonaws.com/jkan.pl/uek-krakow/finanse-obliczeniowe/retail_sales.gz -O var/retail_sales.gz\n",
    "!wget https://s3.eu-central-1.amazonaws.com/jkan.pl/uek-krakow/finanse-obliczeniowe/time+series+queries.sql\n",
    "!sudo -u postgres psql db < var/retail_sales.gz"
   ]
  },
  {
   "cell_type": "code",
   "execution_count": null,
   "metadata": {},
   "outputs": [],
   "source": [
    "select = '''\n",
    "    select * from retail_sales limit 10;\n",
    "'''\n",
    "\n",
    "try:\n",
    "    connection = connect_db()\n",
    "    cursor = connection.cursor()\n",
    "    cursor.execute(select)\n",
    "    records = cursor.fetchall()\n",
    "except (Exception, psycopg2.DataError) as error:\n",
    "    print (\"Error while inserting\", error)\n",
    "finally:\n",
    "    #closing database connection.\n",
    "    if(connection):\n",
    "        cursor.close()\n",
    "        connection.close()\n",
    "        print(\"PostgreSQL connection is closed\")"
   ]
  },
  {
   "cell_type": "code",
   "execution_count": null,
   "metadata": {},
   "outputs": [],
   "source": [
    "print(records)"
   ]
  }
 ],
 "metadata": {
  "colab": {
   "name": "01--postgresql.ipynb",
   "provenance": []
  },
  "kernelspec": {
   "display_name": "Python 3.11.1 64-bit",
   "language": "python",
   "name": "python3"
  },
  "language_info": {
   "codemirror_mode": {
    "name": "ipython",
    "version": 3
   },
   "file_extension": ".py",
   "mimetype": "text/x-python",
   "name": "python",
   "nbconvert_exporter": "python",
   "pygments_lexer": "ipython3",
   "version": "3.11.1"
  },
  "vscode": {
   "interpreter": {
    "hash": "1a1af0ee75eeea9e2e1ee996c87e7a2b11a0bebd85af04bb136d915cefc0abce"
   }
  }
 },
 "nbformat": 4,
 "nbformat_minor": 1
}
