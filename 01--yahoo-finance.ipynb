{
 "cells": [
  {
   "cell_type": "markdown",
   "id": "968bd2c0",
   "metadata": {},
   "source": [
    "[![Open In Colab](https://colab.research.google.com/assets/colab-badge.svg)](https://githubtocolab.com/jkanclerz/dbs/blob/main/01--yahoo-finance.ipynb)\n",
    "\n",
    "# Wczytaj dane historyczne\n",
    "\n",
    "https://www.gpw.pl/list-of-companies\n",
    "\n",
    "Ticker: \n",
    "* GPW.WA \n",
    "* KGH.WA \n",
    "* PKN.WA\n",
    "\n",
    "\n",
    "https://finance.yahoo.com/quote/KGH.WA?p=KGH.WA&.tsrc=fin-srch\n",
    "\n",
    "https://pypi.org/project/yfinance/\n"
   ]
  },
  {
   "cell_type": "code",
   "execution_count": null,
   "id": "5136ea4f",
   "metadata": {},
   "outputs": [],
   "source": [
    "!pip install yfinance pandas"
   ]
  },
  {
   "cell_type": "markdown",
   "id": "ef6f6991",
   "metadata": {},
   "source": []
  },
  {
   "cell_type": "code",
   "execution_count": null,
   "id": "ec59fe67",
   "metadata": {},
   "outputs": [],
   "source": [
    "import yfinance as yf\n",
    "\n",
    "msft = yf.Ticker(\"PKN.WA\")"
   ]
  },
  {
   "cell_type": "code",
   "execution_count": null,
   "id": "dbd01b75",
   "metadata": {},
   "outputs": [],
   "source": [
    "hist = msft.history(interval=\"1m\", start=\"2023-01-02\", end=\"2023-01-02\")"
   ]
  },
  {
   "cell_type": "code",
   "execution_count": null,
   "id": "1036a933",
   "metadata": {},
   "outputs": [],
   "source": [
    "hist[:2]"
   ]
  },
  {
   "cell_type": "code",
   "execution_count": null,
   "id": "2725115d",
   "metadata": {},
   "outputs": [],
   "source": [
    "N_DAYS = 30\n",
    "TICKERS = [\"PKN.WA\", \"GPW.WA\"]"
   ]
  },
  {
   "cell_type": "code",
   "execution_count": null,
   "id": "c49fee6d",
   "metadata": {},
   "outputs": [],
   "source": [
    "from datetime import date, datetime, timedelta\n",
    "\n",
    "yesterday = date.today() - timedelta(days=1)\n",
    "\n",
    "periods = [\n",
    "    (str(yesterday - timedelta(days=x + 1)), str(yesterday - timedelta(days=x))) for x in range(N_DAYS)\n",
    "]"
   ]
  },
  {
   "cell_type": "code",
   "execution_count": null,
   "id": "0c0cd1e1",
   "metadata": {},
   "outputs": [],
   "source": [
    "periods[:3]"
   ]
  },
  {
   "cell_type": "code",
   "execution_count": null,
   "id": "de38191a",
   "metadata": {},
   "outputs": [],
   "source": [
    "msft.history?"
   ]
  },
  {
   "cell_type": "code",
   "execution_count": null,
   "id": "b3c51347",
   "metadata": {},
   "outputs": [],
   "source": [
    "def get_ticker_data(ticker, begin, end):\n",
    "    msft = yf.Ticker(ticker)\n",
    "    history = msft.history(interval=\"1m\", start=begin, end=end)\n",
    "    return history"
   ]
  },
  {
   "cell_type": "code",
   "execution_count": null,
   "id": "cd137355",
   "metadata": {},
   "outputs": [],
   "source": [
    "to_download = [(ticker, begin, end) for ticker in TICKERS for begin, end in periods]"
   ]
  },
  {
   "cell_type": "code",
   "execution_count": null,
   "id": "c8c1ff52",
   "metadata": {},
   "outputs": [],
   "source": [
    "to_download[:5]"
   ]
  },
  {
   "cell_type": "code",
   "execution_count": null,
   "id": "2a45700d",
   "metadata": {},
   "outputs": [],
   "source": [
    "data = ((*args, get_ticker_data(*args)) for args in to_download)"
   ]
  },
  {
   "cell_type": "code",
   "execution_count": null,
   "id": "fac53504",
   "metadata": {},
   "outputs": [],
   "source": [
    "X = next(data)"
   ]
  },
  {
   "cell_type": "code",
   "execution_count": null,
   "id": "ca79abef",
   "metadata": {},
   "outputs": [],
   "source": [
    "!mkdir var"
   ]
  },
  {
   "cell_type": "code",
   "execution_count": null,
   "id": "18b19ff6",
   "metadata": {},
   "outputs": [],
   "source": [
    "import os\n",
    "\n",
    "def save_1m(daily_data):\n",
    "    ticker,date,end,df = daily_data\n",
    "    if len(df) == 0:\n",
    "        return\n",
    "    dest_path = \"var/{ticker}/{date}/1m.csv\".format(ticker=ticker,date=date)\n",
    "    os.makedirs(os.path.dirname(dest_path), exist_ok=True)\n",
    "    df.to_csv(dest_path)"
   ]
  },
  {
   "cell_type": "code",
   "execution_count": null,
   "id": "4f7cf79a",
   "metadata": {},
   "outputs": [],
   "source": [
    "for daily_data in data:\n",
    "    save_1m(daily_data)"
   ]
  },
  {
   "cell_type": "code",
   "execution_count": null,
   "id": "30b359cd",
   "metadata": {},
   "outputs": [],
   "source": []
  }
 ],
 "metadata": {
  "kernelspec": {
   "display_name": "Python 3.11.1 64-bit",
   "language": "python",
   "name": "python3"
  },
  "language_info": {
   "codemirror_mode": {
    "name": "ipython",
    "version": 3
   },
   "file_extension": ".py",
   "mimetype": "text/x-python",
   "name": "python",
   "nbconvert_exporter": "python",
   "pygments_lexer": "ipython3",
   "version": "3.11.1"
  },
  "vscode": {
   "interpreter": {
    "hash": "1a1af0ee75eeea9e2e1ee996c87e7a2b11a0bebd85af04bb136d915cefc0abce"
   }
  }
 },
 "nbformat": 4,
 "nbformat_minor": 5
}
