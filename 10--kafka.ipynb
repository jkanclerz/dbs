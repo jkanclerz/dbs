{
  "cells": [
    {
      "cell_type": "markdown",
      "metadata": {
        "id": "zzoZX9kWhYh2"
      },
      "source": [
        "[![Open In Colab](https://colab.research.google.com/assets/colab-badge.svg)](https://githubtocolab.com/jkanclerz/dbs/blob/main/10--kafka.ipynb)"
      ]
    },
    {
      "cell_type": "markdown",
      "metadata": {
        "id": "ZsMik6LdhcyC"
      },
      "source": [
        "## Instalacja KAFKA "
      ]
    },
    {
      "cell_type": "code",
      "execution_count": 11,
      "metadata": {
        "id": "_R1psDH8k9xR"
      },
      "outputs": [],
      "source": [
        "!sudo apt-get -y -qq update\n",
        "!sudo apt-get -y -qq install gzip"
      ]
    },
    {
      "cell_type": "code",
      "execution_count": 15,
      "metadata": {
        "id": "CaBwMZrFk7zD"
      },
      "outputs": [],
      "source": [
        "!rm -rf kafka*\n",
        "!curl -sSOL https://dlcdn.apache.org/kafka/3.3.2/kafka_2.13-3.3.2.tgz\n",
        "!tar -xzf kafka_2.13-3.3.2.tgz\n",
        "!mv kafka_2.13-3.3.2 kafka"
      ]
    },
    {
      "cell_type": "code",
      "execution_count": 16,
      "metadata": {
        "id": "mGucCbl-laiK"
      },
      "outputs": [],
      "source": [
        "!./kafka/bin/zookeeper-server-start.sh -daemon ./kafka/config/zookeeper.properties"
      ]
    },
    {
      "cell_type": "code",
      "execution_count": 17,
      "metadata": {
        "id": "Zkyn8jS3lr6C"
      },
      "outputs": [],
      "source": [
        "!./kafka/bin/kafka-server-start.sh -daemon ./kafka/config/server.properties"
      ]
    },
    {
      "cell_type": "code",
      "execution_count": 18,
      "metadata": {
        "colab": {
          "base_uri": "https://localhost:8080/"
        },
        "id": "FUGcNdi1lwEc",
        "outputId": "a44a7269-9525-41dc-da05-809cb7fe2cb7"
      },
      "outputs": [
        {
          "name": "stdout",
          "output_type": "stream",
          "text": [
            "Waiting for 10 secs until kafka and zookeeper services are up and running\n"
          ]
        }
      ],
      "source": [
        "!echo \"Waiting for 10 secs until kafka and zookeeper services are up and running\"\n",
        "!sleep 10"
      ]
    },
    {
      "cell_type": "code",
      "execution_count": 19,
      "metadata": {
        "colab": {
          "base_uri": "https://localhost:8080/"
        },
        "id": "xMDHR6kslyX-",
        "outputId": "4c0d2f7e-8eab-4b43-b0ea-e9d875fb444a"
      },
      "outputs": [
        {
          "name": "stdout",
          "output_type": "stream",
          "text": [
            "root       12305       1  5 22:54 ?        00:00:02 java -Xmx512M -Xms512M -server -XX:+UseG1GC -XX:MaxGCPauseMillis=20 -XX:InitiatingHeapOccupancyPercent=35 -XX:+ExplicitGCInvokesConcurrent -XX:MaxInlineLevel=15 -Djava.awt.headless=true -Xlog:gc*:file=/content/kafka/bin/../logs/zookeeper-gc.log:time,tags:filecount=10,filesize=100M -Dcom.sun.management.jmxremote -Dcom.sun.management.jmxremote.authenticate=false -Dcom.sun.management.jmxremote.ssl=false -Dkafka.logs.dir=/content/kafka/bin/../logs -Dlog4j.configuration=file:./kafka/bin/../config/log4j.properties -cp /content/kafka/bin/../libs/activation-1.1.1.jar:/content/kafka/bin/../libs/aopalliance-repackaged-2.6.1.jar:/content/kafka/bin/../libs/argparse4j-0.7.0.jar:/content/kafka/bin/../libs/audience-annotations-0.5.0.jar:/content/kafka/bin/../libs/commons-cli-1.4.jar:/content/kafka/bin/../libs/commons-lang3-3.12.0.jar:/content/kafka/bin/../libs/commons-lang3-3.8.1.jar:/content/kafka/bin/../libs/connect-api-3.3.2.jar:/content/kafka/bin/../libs/connect-basic-auth-extension-3.3.2.jar:/content/kafka/bin/../libs/connect-json-3.3.2.jar:/content/kafka/bin/../libs/connect-mirror-3.3.2.jar:/content/kafka/bin/../libs/connect-mirror-client-3.3.2.jar:/content/kafka/bin/../libs/connect-runtime-3.3.2.jar:/content/kafka/bin/../libs/connect-transforms-3.3.2.jar:/content/kafka/bin/../libs/hk2-api-2.6.1.jar:/content/kafka/bin/../libs/hk2-locator-2.6.1.jar:/content/kafka/bin/../libs/hk2-utils-2.6.1.jar:/content/kafka/bin/../libs/jackson-annotations-2.13.4.jar:/content/kafka/bin/../libs/jackson-core-2.13.4.jar:/content/kafka/bin/../libs/jackson-databind-2.13.4.2.jar:/content/kafka/bin/../libs/jackson-dataformat-csv-2.13.4.jar:/content/kafka/bin/../libs/jackson-datatype-jdk8-2.13.4.jar:/content/kafka/bin/../libs/jackson-jaxrs-base-2.13.4.jar:/content/kafka/bin/../libs/jackson-jaxrs-json-provider-2.13.4.jar:/content/kafka/bin/../libs/jackson-module-jaxb-annotations-2.13.4.jar:/content/kafka/bin/../libs/jackson-module-scala_2.13-2.13.4.jar:/content/kafka/bin/../libs/jakarta.activation-api-1.2.2.jar:/content/kafka/bin/../libs/jakarta.annotation-api-1.3.5.jar:/content/kafka/bin/../libs/jakarta.inject-2.6.1.jar:/content/kafka/bin/../libs/jakarta.validation-api-2.0.2.jar:/content/kafka/bin/../libs/jakarta.ws.rs-api-2.1.6.jar:/content/kafka/bin/../libs/jakarta.xml.bind-api-2.3.3.jar:/content/kafka/bin/../libs/javassist-3.27.0-GA.jar:/content/kafka/bin/../libs/javax.servlet-api-3.1.0.jar:/content/kafka/bin/../libs/javax.ws.rs-api-2.1.1.jar:/content/kafka/bin/../libs/jaxb-api-2.3.0.jar:/content/kafka/bin/../libs/jersey-client-2.34.jar:/content/kafka/bin/../libs/jersey-common-2.34.jar:/content/kafka/bin/../libs/jersey-container-servlet-2.34.jar:/content/kafka/bin/../libs/jersey-container-servlet-core-2.34.jar:/content/kafka/bin/../libs/jersey-hk2-2.34.jar:/content/kafka/bin/../libs/jersey-server-2.34.jar:/content/kafka/bin/../libs/jetty-client-9.4.48.v20220622.jar:/content/kafka/bin/../libs/jetty-continuation-9.4.48.v20220622.jar:/content/kafka/bin/../libs/jetty-http-9.4.48.v20220622.jar:/content/kafka/bin/../libs/jetty-io-9.4.48.v20220622.jar:/content/kafka/bin/../libs/jetty-security-9.4.48.v20220622.jar:/content/kafka/bin/../libs/jetty-server-9.4.48.v20220622.jar:/content/kafka/bin/../libs/jetty-servlet-9.4.48.v20220622.jar:/content/kafka/bin/../libs/jetty-servlets-9.4.48.v20220622.jar:/content/kafka/bin/../libs/jetty-util-9.4.48.v20220622.jar:/content/kafka/bin/../libs/jetty-util-ajax-9.4.48.v20220622.jar:/content/kafka/bin/../libs/jline-3.21.0.jar:/content/kafka/bin/../libs/jopt-simple-5.0.4.jar:/content/kafka/bin/../libs/jose4j-0.7.9.jar:/content/kafka/bin/../libs/kafka_2.13-3.3.2.jar:/content/kafka/bin/../libs/kafka-clients-3.3.2.jar:/content/kafka/bin/../libs/kafka-log4j-appender-3.3.2.jar:/content/kafka/bin/../libs/kafka-metadata-3.3.2.jar:/content/kafka/bin/../libs/kafka-raft-3.3.2.jar:/content/kafka/bin/../libs/kafka-server-common-3.3.2.jar:/content/kafka/bin/../libs/kafka-shell-3.3.2.jar:/content/kafka/bin/../libs/kafka-storage-3.3.2.jar:/content/kafka/bin/../libs/kafka-storage-api-3.3.2.jar:/content/kafka/bin/../libs/kafka-streams-3.3.2.jar:/content/kafka/bin/../libs/kafka-streams-examples-3.3.2.jar:/content/kafka/bin/../libs/kafka-streams-scala_2.13-3.3.2.jar:/content/kafka/bin/../libs/kafka-streams-test-utils-3.3.2.jar:/content/kafka/bin/../libs/kafka-tools-3.3.2.jar:/content/kafka/bin/../libs/lz4-java-1.8.0.jar:/content/kafka/bin/../libs/maven-artifact-3.8.4.jar:/content/kafka/bin/../libs/metrics-core-2.2.0.jar:/content/kafka/bin/../libs/metrics-core-4.1.12.1.jar:/content/kafka/bin/../libs/netty-buffer-4.1.78.Final.jar:/content/kafka/bin/../libs/netty-codec-4.1.78.Final.jar:/content/kafka/bin/../libs/netty-common-4.1.78.Final.jar:/content/kafka/bin/../libs/netty-handler-4.1.78.Final.jar:/content/kafka/bin/../libs/netty-resolver-4.1.78.Final.jar:/content/kafka/bin/../libs/netty-transport-4.1.78.Final.jar:/content/kafka/bin/../libs/netty-transport-classes-epoll-4.1.78.Final.jar:/content/kafka/bin/../libs/netty-transport-native-epoll-4.1.78.Final.jar:/content/kafka/bin/../libs/netty-transport-native-unix-common-4.1.78.Final.jar:/content/kafka/bin/../libs/osgi-resource-locator-1.0.3.jar:/content/kafka/bin/../libs/paranamer-2.8.jar:/content/kafka/bin/../libs/plexus-utils-3.3.0.jar:/content/kafka/bin/../libs/reflections-0.9.12.jar:/content/kafka/bin/../libs/reload4j-1.2.19.jar:/content/kafka/bin/../libs/rocksdbjni-7.1.2.jar:/content/kafka/bin/../libs/scala-collection-compat_2.13-2.6.0.jar:/content/kafka/bin/../libs/scala-java8-compat_2.13-1.0.2.jar:/content/kafka/bin/../libs/scala-library-2.13.8.jar:/content/kafka/bin/../libs/scala-logging_2.13-3.9.4.jar:/content/kafka/bin/../libs/scala-reflect-2.13.8.jar:/content/kafka/bin/../libs/slf4j-api-1.7.36.jar:/content/kafka/bin/../libs/slf4j-reload4j-1.7.36.jar:/content/kafka/bin/../libs/snappy-java-1.1.8.4.jar:/content/kafka/bin/../libs/swagger-annotations-2.2.0.jar:/content/kafka/bin/../libs/trogdor-3.3.2.jar:/content/kafka/bin/../libs/zookeeper-3.6.3.jar:/content/kafka/bin/../libs/zookeeper-jute-3.6.3.jar:/content/kafka/bin/../libs/zstd-jni-1.5.2-1.jar org.apache.zookeeper.server.quorum.QuorumPeerMain ./kafka/config/zookeeper.properties\n",
            "root       12765       1 39 22:54 ?        00:00:07 java -Xmx1G -Xms1G -server -XX:+UseG1GC -XX:MaxGCPauseMillis=20 -XX:InitiatingHeapOccupancyPercent=35 -XX:+ExplicitGCInvokesConcurrent -XX:MaxInlineLevel=15 -Djava.awt.headless=true -Xlog:gc*:file=/content/kafka/bin/../logs/kafkaServer-gc.log:time,tags:filecount=10,filesize=100M -Dcom.sun.management.jmxremote -Dcom.sun.management.jmxremote.authenticate=false -Dcom.sun.management.jmxremote.ssl=false -Dkafka.logs.dir=/content/kafka/bin/../logs -Dlog4j.configuration=file:./kafka/bin/../config/log4j.properties -cp /content/kafka/bin/../libs/activation-1.1.1.jar:/content/kafka/bin/../libs/aopalliance-repackaged-2.6.1.jar:/content/kafka/bin/../libs/argparse4j-0.7.0.jar:/content/kafka/bin/../libs/audience-annotations-0.5.0.jar:/content/kafka/bin/../libs/commons-cli-1.4.jar:/content/kafka/bin/../libs/commons-lang3-3.12.0.jar:/content/kafka/bin/../libs/commons-lang3-3.8.1.jar:/content/kafka/bin/../libs/connect-api-3.3.2.jar:/content/kafka/bin/../libs/connect-basic-auth-extension-3.3.2.jar:/content/kafka/bin/../libs/connect-json-3.3.2.jar:/content/kafka/bin/../libs/connect-mirror-3.3.2.jar:/content/kafka/bin/../libs/connect-mirror-client-3.3.2.jar:/content/kafka/bin/../libs/connect-runtime-3.3.2.jar:/content/kafka/bin/../libs/connect-transforms-3.3.2.jar:/content/kafka/bin/../libs/hk2-api-2.6.1.jar:/content/kafka/bin/../libs/hk2-locator-2.6.1.jar:/content/kafka/bin/../libs/hk2-utils-2.6.1.jar:/content/kafka/bin/../libs/jackson-annotations-2.13.4.jar:/content/kafka/bin/../libs/jackson-core-2.13.4.jar:/content/kafka/bin/../libs/jackson-databind-2.13.4.2.jar:/content/kafka/bin/../libs/jackson-dataformat-csv-2.13.4.jar:/content/kafka/bin/../libs/jackson-datatype-jdk8-2.13.4.jar:/content/kafka/bin/../libs/jackson-jaxrs-base-2.13.4.jar:/content/kafka/bin/../libs/jackson-jaxrs-json-provider-2.13.4.jar:/content/kafka/bin/../libs/jackson-module-jaxb-annotations-2.13.4.jar:/content/kafka/bin/../libs/jackson-module-scala_2.13-2.13.4.jar:/content/kafka/bin/../libs/jakarta.activation-api-1.2.2.jar:/content/kafka/bin/../libs/jakarta.annotation-api-1.3.5.jar:/content/kafka/bin/../libs/jakarta.inject-2.6.1.jar:/content/kafka/bin/../libs/jakarta.validation-api-2.0.2.jar:/content/kafka/bin/../libs/jakarta.ws.rs-api-2.1.6.jar:/content/kafka/bin/../libs/jakarta.xml.bind-api-2.3.3.jar:/content/kafka/bin/../libs/javassist-3.27.0-GA.jar:/content/kafka/bin/../libs/javax.servlet-api-3.1.0.jar:/content/kafka/bin/../libs/javax.ws.rs-api-2.1.1.jar:/content/kafka/bin/../libs/jaxb-api-2.3.0.jar:/content/kafka/bin/../libs/jersey-client-2.34.jar:/content/kafka/bin/../libs/jersey-common-2.34.jar:/content/kafka/bin/../libs/jersey-container-servlet-2.34.jar:/content/kafka/bin/../libs/jersey-container-servlet-core-2.34.jar:/content/kafka/bin/../libs/jersey-hk2-2.34.jar:/content/kafka/bin/../libs/jersey-server-2.34.jar:/content/kafka/bin/../libs/jetty-client-9.4.48.v20220622.jar:/content/kafka/bin/../libs/jetty-continuation-9.4.48.v20220622.jar:/content/kafka/bin/../libs/jetty-http-9.4.48.v20220622.jar:/content/kafka/bin/../libs/jetty-io-9.4.48.v20220622.jar:/content/kafka/bin/../libs/jetty-security-9.4.48.v20220622.jar:/content/kafka/bin/../libs/jetty-server-9.4.48.v20220622.jar:/content/kafka/bin/../libs/jetty-servlet-9.4.48.v20220622.jar:/content/kafka/bin/../libs/jetty-servlets-9.4.48.v20220622.jar:/content/kafka/bin/../libs/jetty-util-9.4.48.v20220622.jar:/content/kafka/bin/../libs/jetty-util-ajax-9.4.48.v20220622.jar:/content/kafka/bin/../libs/jline-3.21.0.jar:/content/kafka/bin/../libs/jopt-simple-5.0.4.jar:/content/kafka/bin/../libs/jose4j-0.7.9.jar:/content/kafka/bin/../libs/kafka_2.13-3.3.2.jar:/content/kafka/bin/../libs/kafka-clients-3.3.2.jar:/content/kafka/bin/../libs/kafka-log4j-appender-3.3.2.jar:/content/kafka/bin/../libs/kafka-metadata-3.3.2.jar:/content/kafka/bin/../libs/kafka-raft-3.3.2.jar:/content/kafka/bin/../libs/kafka-server-common-3.3.2.jar:/content/kafka/bin/../libs/kafka-shell-3.3.2.jar:/content/kafka/bin/../libs/kafka-storage-3.3.2.jar:/content/kafka/bin/../libs/kafka-storage-api-3.3.2.jar:/content/kafka/bin/../libs/kafka-streams-3.3.2.jar:/content/kafka/bin/../libs/kafka-streams-examples-3.3.2.jar:/content/kafka/bin/../libs/kafka-streams-scala_2.13-3.3.2.jar:/content/kafka/bin/../libs/kafka-streams-test-utils-3.3.2.jar:/content/kafka/bin/../libs/kafka-tools-3.3.2.jar:/content/kafka/bin/../libs/lz4-java-1.8.0.jar:/content/kafka/bin/../libs/maven-artifact-3.8.4.jar:/content/kafka/bin/../libs/metrics-core-2.2.0.jar:/content/kafka/bin/../libs/metrics-core-4.1.12.1.jar:/content/kafka/bin/../libs/netty-buffer-4.1.78.Final.jar:/content/kafka/bin/../libs/netty-codec-4.1.78.Final.jar:/content/kafka/bin/../libs/netty-common-4.1.78.Final.jar:/content/kafka/bin/../libs/netty-handler-4.1.78.Final.jar:/content/kafka/bin/../libs/netty-resolver-4.1.78.Final.jar:/content/kafka/bin/../libs/netty-transport-4.1.78.Final.jar:/content/kafka/bin/../libs/netty-transport-classes-epoll-4.1.78.Final.jar:/content/kafka/bin/../libs/netty-transport-native-epoll-4.1.78.Final.jar:/content/kafka/bin/../libs/netty-transport-native-unix-common-4.1.78.Final.jar:/content/kafka/bin/../libs/osgi-resource-locator-1.0.3.jar:/content/kafka/bin/../libs/paranamer-2.8.jar:/content/kafka/bin/../libs/plexus-utils-3.3.0.jar:/content/kafka/bin/../libs/reflections-0.9.12.jar:/content/kafka/bin/../libs/reload4j-1.2.19.jar:/content/kafka/bin/../libs/rocksdbjni-7.1.2.jar:/content/kafka/bin/../libs/scala-collection-compat_2.13-2.6.0.jar:/content/kafka/bin/../libs/scala-java8-compat_2.13-1.0.2.jar:/content/kafka/bin/../libs/scala-library-2.13.8.jar:/content/kafka/bin/../libs/scala-logging_2.13-3.9.4.jar:/content/kafka/bin/../libs/scala-reflect-2.13.8.jar:/content/kafka/bin/../libs/slf4j-api-1.7.36.jar:/content/kafka/bin/../libs/slf4j-reload4j-1.7.36.jar:/content/kafka/bin/../libs/snappy-java-1.1.8.4.jar:/content/kafka/bin/../libs/swagger-annotations-2.2.0.jar:/content/kafka/bin/../libs/trogdor-3.3.2.jar:/content/kafka/bin/../libs/zookeeper-3.6.3.jar:/content/kafka/bin/../libs/zookeeper-jute-3.6.3.jar:/content/kafka/bin/../libs/zstd-jni-1.5.2-1.jar kafka.Kafka ./kafka/config/server.properties\n",
            "root       12919     106  0 22:54 ?        00:00:00 /bin/bash -c ps -ef | grep kafka\n",
            "root       12921   12919  0 22:54 ?        00:00:00 grep kafka\n"
          ]
        }
      ],
      "source": [
        "!ps -ef | grep kafka"
      ]
    },
    {
      "cell_type": "code",
      "execution_count": 20,
      "metadata": {
        "colab": {
          "base_uri": "https://localhost:8080/"
        },
        "id": "UZu76Z7ml1ma",
        "outputId": "3cd72369-d61e-408e-d0df-404aa2493b73"
      },
      "outputs": [
        {
          "name": "stdout",
          "output_type": "stream",
          "text": [
            "Created topic testit.\n"
          ]
        }
      ],
      "source": [
        "!./kafka/bin/kafka-topics.sh --create --bootstrap-server 127.0.0.1:9092 --replication-factor 1 --partitions 1 --topic testit"
      ]
    },
    {
      "cell_type": "code",
      "execution_count": 21,
      "metadata": {
        "colab": {
          "base_uri": "https://localhost:8080/"
        },
        "id": "AeUFcWVrmNM_",
        "outputId": "0362407c-50e9-43d1-ce6b-6233c74d9d9b"
      },
      "outputs": [
        {
          "name": "stdout",
          "output_type": "stream",
          "text": [
            "Topic: testit\tTopicId: H4YU1dK9R-WS9y8wsVablA\tPartitionCount: 1\tReplicationFactor: 1\tConfigs: \n",
            "\tTopic: testit\tPartition: 0\tLeader: 0\tReplicas: 0\tIsr: 0\n"
          ]
        }
      ],
      "source": [
        "!./kafka/bin/kafka-topics.sh --describe --bootstrap-server 127.0.0.1:9092 --topic testit"
      ]
    },
    {
      "cell_type": "code",
      "execution_count": 22,
      "metadata": {
        "colab": {
          "base_uri": "https://localhost:8080/"
        },
        "id": "hypBigfImZcz",
        "outputId": "dd8842ff-bf41-4bb7-df46-2550735d0c44"
      },
      "outputs": [
        {
          "name": "stdout",
          "output_type": "stream",
          "text": [
            "Looking in indexes: https://pypi.org/simple, https://us-python.pkg.dev/colab-wheels/public/simple/\n",
            "Collecting kafka-python\n",
            "  Downloading kafka_python-2.0.2-py2.py3-none-any.whl (246 kB)\n",
            "\u001b[2K     \u001b[90m━━━━━━━━━━━━━━━━━━━━━━━━━━━━━━━━━━━━━━\u001b[0m \u001b[32m246.5/246.5 KB\u001b[0m \u001b[31m14.6 MB/s\u001b[0m eta \u001b[36m0:00:00\u001b[0m\n",
            "\u001b[?25hInstalling collected packages: kafka-python\n",
            "Successfully installed kafka-python-2.0.2\n"
          ]
        }
      ],
      "source": [
        "pip install kafka-python"
      ]
    },
    {
      "cell_type": "code",
      "execution_count": 36,
      "metadata": {
        "colab": {
          "base_uri": "https://localhost:8080/",
          "height": 314
        },
        "id": "Acve7jr2mjhp",
        "outputId": "0a1f5f2f-b682-4bad-b513-9051f72ef873"
      },
      "outputs": [
        {
          "name": "stdout",
          "output_type": "stream",
          "text": [
            "RecordMetadata(topic='testit', partition=0, topic_partition=TopicPartition(topic='testit', partition=0), offset=9, timestamp=1674947625909, log_start_offset=0, checksum=None, serialized_key_size=15, serialized_value_size=13, serialized_header_size=-1)\n",
            "RecordMetadata(topic='testit', partition=0, topic_partition=TopicPartition(topic='testit', partition=0), offset=10, timestamp=1674947627911, log_start_offset=0, checksum=None, serialized_key_size=15, serialized_value_size=13, serialized_header_size=-1)\n",
            "RecordMetadata(topic='testit', partition=0, topic_partition=TopicPartition(topic='testit', partition=0), offset=11, timestamp=1674947629914, log_start_offset=0, checksum=None, serialized_key_size=15, serialized_value_size=13, serialized_header_size=-1)\n",
            "RecordMetadata(topic='testit', partition=0, topic_partition=TopicPartition(topic='testit', partition=0), offset=12, timestamp=1674947631916, log_start_offset=0, checksum=None, serialized_key_size=15, serialized_value_size=13, serialized_header_size=-1)\n",
            "RecordMetadata(topic='testit', partition=0, topic_partition=TopicPartition(topic='testit', partition=0), offset=13, timestamp=1674947633919, log_start_offset=0, checksum=None, serialized_key_size=15, serialized_value_size=13, serialized_header_size=-1)\n"
          ]
        },
        {
          "ename": "KeyboardInterrupt",
          "evalue": "ignored",
          "output_type": "error",
          "traceback": [
            "\u001b[0;31m---------------------------------------------------------------------------\u001b[0m",
            "\u001b[0;31mKeyboardInterrupt\u001b[0m                         Traceback (most recent call last)",
            "\u001b[0;32m<ipython-input-36-f19fa97d136b>\u001b[0m in \u001b[0;36m<module>\u001b[0;34m\u001b[0m\n\u001b[1;32m     17\u001b[0m   \u001b[0mF\u001b[0m \u001b[0;34m=\u001b[0m \u001b[0mproducer\u001b[0m\u001b[0;34m.\u001b[0m\u001b[0msend\u001b[0m\u001b[0;34m(\u001b[0m\u001b[0;34m\"testit\"\u001b[0m\u001b[0;34m,\u001b[0m \u001b[0;34m{\u001b[0m\u001b[0;34m\"value\"\u001b[0m\u001b[0;34m:\u001b[0m \u001b[0mrandint\u001b[0m\u001b[0;34m(\u001b[0m\u001b[0;36m1\u001b[0m\u001b[0;34m,\u001b[0m\u001b[0;36m100\u001b[0m\u001b[0;34m)\u001b[0m\u001b[0;34m}\u001b[0m\u001b[0;34m,\u001b[0m \u001b[0mkey\u001b[0m\u001b[0;34m=\u001b[0m\u001b[0;34m\"partition_key_1\"\u001b[0m\u001b[0;34m.\u001b[0m\u001b[0mencode\u001b[0m\u001b[0;34m(\u001b[0m\u001b[0;34m\"utf-8\"\u001b[0m\u001b[0;34m)\u001b[0m\u001b[0;34m)\u001b[0m\u001b[0;34m\u001b[0m\u001b[0;34m\u001b[0m\u001b[0m\n\u001b[1;32m     18\u001b[0m   \u001b[0mF\u001b[0m\u001b[0;34m.\u001b[0m\u001b[0madd_callback\u001b[0m\u001b[0;34m(\u001b[0m\u001b[0;32mlambda\u001b[0m \u001b[0mx\u001b[0m\u001b[0;34m:\u001b[0m \u001b[0mpp\u001b[0m\u001b[0;34m(\u001b[0m\u001b[0mx\u001b[0m\u001b[0;34m)\u001b[0m\u001b[0;34m)\u001b[0m\u001b[0;34m\u001b[0m\u001b[0;34m\u001b[0m\u001b[0m\n\u001b[0;32m---> 19\u001b[0;31m   \u001b[0mtime\u001b[0m\u001b[0;34m.\u001b[0m\u001b[0msleep\u001b[0m\u001b[0;34m(\u001b[0m\u001b[0;36m2\u001b[0m\u001b[0;34m)\u001b[0m\u001b[0;34m\u001b[0m\u001b[0;34m\u001b[0m\u001b[0m\n\u001b[0m",
            "\u001b[0;31mKeyboardInterrupt\u001b[0m: "
          ]
        }
      ],
      "source": [
        "import json\n",
        "from kafka import KafkaProducer\n",
        "from random import randint\n",
        "from pprint import pprint as pp\n",
        "import time\n",
        "\n",
        "kafka_servers = [\"127.0.0.1:9092\"]\n",
        "\n",
        "producer = KafkaProducer(\n",
        "    bootstrap_servers=kafka_servers,\n",
        "    value_serializer=lambda v: json.dumps(v).encode(\"utf-8\"),\n",
        "    retries=5,\n",
        "    acks=\"all\"\n",
        ")\n",
        "\n",
        "while True:\n",
        "  F = producer.send(\"testit\", {\"value\": randint(1,100)}, key=\"partition_key_1\".encode(\"utf-8\"))\n",
        "  F.add_callback(lambda x: pp(x))\n",
        "  time.sleep(2)"
      ]
    },
    {
      "cell_type": "code",
      "execution_count": 52,
      "metadata": {
        "colab": {
          "base_uri": "https://localhost:8080/"
        },
        "id": "ZnbMS0jnru5Z",
        "outputId": "92a10eac-a49d-43cd-92e9-6ece5dbaf296"
      },
      "outputs": [
        {
          "name": "stderr",
          "output_type": "stream",
          "text": [
            "WARNING:kafka.coordinator:Heartbeat failed for group worker-group-1 because it is rebalancing\n",
            "WARNING:kafka.coordinator:Heartbeat failed for group worker-group-1 because it is rebalancing\n"
          ]
        },
        {
          "name": "stdout",
          "output_type": "stream",
          "text": [
            "Traceback (most recent call last):\n",
            "  File \"producer.py\", line 19, in <module>\n",
            "    time.sleep(10)\n",
            "KeyboardInterrupt\n",
            "^C\n"
          ]
        },
        {
          "name": "stderr",
          "output_type": "stream",
          "text": [
            "WARNING:kafka.coordinator:Heartbeat failed for group worker-group-1 because it is rebalancing\n"
          ]
        }
      ],
      "source": [
        "!python producer.py\n"
      ]
    },
    {
      "cell_type": "code",
      "execution_count": 2,
      "metadata": {
        "colab": {
          "base_uri": "https://localhost:8080/"
        },
        "id": "A_PLFAZYqRRJ",
        "outputId": "afb1d22a-a8cb-436e-ea04-e5d95602bfe6"
      },
      "outputs": [
        {
          "name": "stdout",
          "output_type": "stream",
          "text": [
            "nohup: redirecting stderr to stdout\n"
          ]
        }
      ],
      "source": [
        "!nohup python producer.py > output.log &"
      ]
    },
    {
      "cell_type": "code",
      "execution_count": 4,
      "metadata": {
        "colab": {
          "base_uri": "https://localhost:8080/",
          "height": 1000
        },
        "id": "Tr6eJMgcoUft",
        "outputId": "0296fd34-bdb9-4ebc-908d-42f947e26f91"
      },
      "outputs": [
        {
          "name": "stdout",
          "output_type": "stream",
          "text": [
            "ConsumerRecord(topic='testit', partition=0, offset=981, timestamp=1674948234934, timestamp_type=0, key=b'partition_key_1', value={'value': 61}, headers=[], checksum=None, serialized_key_size=15, serialized_value_size=13, serialized_header_size=-1)\n",
            "ConsumerRecord(topic='testit', partition=0, offset=982, timestamp=1674948235730, timestamp_type=0, key=b'partition_key_1', value={'value': 57}, headers=[], checksum=None, serialized_key_size=15, serialized_value_size=13, serialized_header_size=-1)\n",
            "ConsumerRecord(topic='testit', partition=0, offset=983, timestamp=1674948236059, timestamp_type=0, key=b'partition_key_1', value={'value': 44}, headers=[], checksum=None, serialized_key_size=15, serialized_value_size=13, serialized_header_size=-1)\n",
            "ConsumerRecord(topic='testit', partition=0, offset=984, timestamp=1674948236528, timestamp_type=0, key=b'partition_key_1', value={'value': 74}, headers=[], checksum=None, serialized_key_size=15, serialized_value_size=13, serialized_header_size=-1)\n",
            "ConsumerRecord(topic='testit', partition=0, offset=985, timestamp=1674948236936, timestamp_type=0, key=b'partition_key_1', value={'value': 85}, headers=[], checksum=None, serialized_key_size=15, serialized_value_size=13, serialized_header_size=-1)\n",
            "ConsumerRecord(topic='testit', partition=0, offset=986, timestamp=1674948237733, timestamp_type=0, key=b'partition_key_1', value={'value': 27}, headers=[], checksum=None, serialized_key_size=15, serialized_value_size=13, serialized_header_size=-1)\n",
            "ConsumerRecord(topic='testit', partition=0, offset=987, timestamp=1674948237923, timestamp_type=0, key=b'partition_key_1', value={'value': 15}, headers=[], checksum=None, serialized_key_size=15, serialized_value_size=13, serialized_header_size=-1)\n",
            "ConsumerRecord(topic='testit', partition=0, offset=988, timestamp=1674948238061, timestamp_type=0, key=b'partition_key_1', value={'value': 30}, headers=[], checksum=None, serialized_key_size=15, serialized_value_size=13, serialized_header_size=-1)\n",
            "ConsumerRecord(topic='testit', partition=0, offset=989, timestamp=1674948238530, timestamp_type=0, key=b'partition_key_1', value={'value': 13}, headers=[], checksum=None, serialized_key_size=15, serialized_value_size=13, serialized_header_size=-1)\n",
            "ConsumerRecord(topic='testit', partition=0, offset=990, timestamp=1674948238938, timestamp_type=0, key=b'partition_key_1', value={'value': 79}, headers=[], checksum=None, serialized_key_size=15, serialized_value_size=13, serialized_header_size=-1)\n",
            "ConsumerRecord(topic='testit', partition=0, offset=991, timestamp=1674948239735, timestamp_type=0, key=b'partition_key_1', value={'value': 30}, headers=[], checksum=None, serialized_key_size=15, serialized_value_size=13, serialized_header_size=-1)\n",
            "ConsumerRecord(topic='testit', partition=0, offset=992, timestamp=1674948240063, timestamp_type=0, key=b'partition_key_1', value={'value': 77}, headers=[], checksum=None, serialized_key_size=15, serialized_value_size=13, serialized_header_size=-1)\n",
            "ConsumerRecord(topic='testit', partition=0, offset=993, timestamp=1674948240533, timestamp_type=0, key=b'partition_key_1', value={'value': 20}, headers=[], checksum=None, serialized_key_size=15, serialized_value_size=13, serialized_header_size=-1)\n",
            "ConsumerRecord(topic='testit', partition=0, offset=994, timestamp=1674948240940, timestamp_type=0, key=b'partition_key_1', value={'value': 65}, headers=[], checksum=None, serialized_key_size=15, serialized_value_size=13, serialized_header_size=-1)\n",
            "ConsumerRecord(topic='testit', partition=0, offset=995, timestamp=1674948241736, timestamp_type=0, key=b'partition_key_1', value={'value': 76}, headers=[], checksum=None, serialized_key_size=15, serialized_value_size=13, serialized_header_size=-1)\n",
            "ConsumerRecord(topic='testit', partition=0, offset=996, timestamp=1674948242066, timestamp_type=0, key=b'partition_key_1', value={'value': 26}, headers=[], checksum=None, serialized_key_size=15, serialized_value_size=13, serialized_header_size=-1)\n",
            "ConsumerRecord(topic='testit', partition=0, offset=997, timestamp=1674948242535, timestamp_type=0, key=b'partition_key_1', value={'value': 61}, headers=[], checksum=None, serialized_key_size=15, serialized_value_size=13, serialized_header_size=-1)\n",
            "ConsumerRecord(topic='testit', partition=0, offset=998, timestamp=1674948242942, timestamp_type=0, key=b'partition_key_1', value={'value': 33}, headers=[], checksum=None, serialized_key_size=15, serialized_value_size=13, serialized_header_size=-1)\n",
            "ConsumerRecord(topic='testit', partition=0, offset=999, timestamp=1674948243738, timestamp_type=0, key=b'partition_key_1', value={'value': 83}, headers=[], checksum=None, serialized_key_size=15, serialized_value_size=13, serialized_header_size=-1)\n",
            "ConsumerRecord(topic='testit', partition=0, offset=1000, timestamp=1674948244068, timestamp_type=0, key=b'partition_key_1', value={'value': 16}, headers=[], checksum=None, serialized_key_size=15, serialized_value_size=13, serialized_header_size=-1)\n",
            "ConsumerRecord(topic='testit', partition=0, offset=1001, timestamp=1674948244538, timestamp_type=0, key=b'partition_key_1', value={'value': 8}, headers=[], checksum=None, serialized_key_size=15, serialized_value_size=12, serialized_header_size=-1)\n",
            "ConsumerRecord(topic='testit', partition=0, offset=1002, timestamp=1674948244944, timestamp_type=0, key=b'partition_key_1', value={'value': 78}, headers=[], checksum=None, serialized_key_size=15, serialized_value_size=13, serialized_header_size=-1)\n",
            "ConsumerRecord(topic='testit', partition=0, offset=1003, timestamp=1674948245739, timestamp_type=0, key=b'partition_key_1', value={'value': 51}, headers=[], checksum=None, serialized_key_size=15, serialized_value_size=13, serialized_header_size=-1)\n",
            "ConsumerRecord(topic='testit', partition=0, offset=1004, timestamp=1674948246069, timestamp_type=0, key=b'partition_key_1', value={'value': 22}, headers=[], checksum=None, serialized_key_size=15, serialized_value_size=13, serialized_header_size=-1)\n",
            "ConsumerRecord(topic='testit', partition=0, offset=1005, timestamp=1674948246540, timestamp_type=0, key=b'partition_key_1', value={'value': 65}, headers=[], checksum=None, serialized_key_size=15, serialized_value_size=13, serialized_header_size=-1)\n",
            "ConsumerRecord(topic='testit', partition=0, offset=1006, timestamp=1674948246946, timestamp_type=0, key=b'partition_key_1', value={'value': 57}, headers=[], checksum=None, serialized_key_size=15, serialized_value_size=13, serialized_header_size=-1)\n",
            "ConsumerRecord(topic='testit', partition=0, offset=1007, timestamp=1674948247742, timestamp_type=0, key=b'partition_key_1', value={'value': 90}, headers=[], checksum=None, serialized_key_size=15, serialized_value_size=13, serialized_header_size=-1)\n",
            "ConsumerRecord(topic='testit', partition=0, offset=1008, timestamp=1674948247933, timestamp_type=0, key=b'partition_key_1', value={'value': 17}, headers=[], checksum=None, serialized_key_size=15, serialized_value_size=13, serialized_header_size=-1)\n",
            "ConsumerRecord(topic='testit', partition=0, offset=1009, timestamp=1674948248072, timestamp_type=0, key=b'partition_key_1', value={'value': 50}, headers=[], checksum=None, serialized_key_size=15, serialized_value_size=13, serialized_header_size=-1)\n",
            "ConsumerRecord(topic='testit', partition=0, offset=1010, timestamp=1674948248543, timestamp_type=0, key=b'partition_key_1', value={'value': 97}, headers=[], checksum=None, serialized_key_size=15, serialized_value_size=13, serialized_header_size=-1)\n",
            "ConsumerRecord(topic='testit', partition=0, offset=1011, timestamp=1674948248948, timestamp_type=0, key=b'partition_key_1', value={'value': 20}, headers=[], checksum=None, serialized_key_size=15, serialized_value_size=13, serialized_header_size=-1)\n",
            "ConsumerRecord(topic='testit', partition=0, offset=1012, timestamp=1674948249744, timestamp_type=0, key=b'partition_key_1', value={'value': 11}, headers=[], checksum=None, serialized_key_size=15, serialized_value_size=13, serialized_header_size=-1)\n",
            "ConsumerRecord(topic='testit', partition=0, offset=1013, timestamp=1674948250074, timestamp_type=0, key=b'partition_key_1', value={'value': 34}, headers=[], checksum=None, serialized_key_size=15, serialized_value_size=13, serialized_header_size=-1)\n",
            "ConsumerRecord(topic='testit', partition=0, offset=1014, timestamp=1674948250545, timestamp_type=0, key=b'partition_key_1', value={'value': 95}, headers=[], checksum=None, serialized_key_size=15, serialized_value_size=13, serialized_header_size=-1)\n",
            "ConsumerRecord(topic='testit', partition=0, offset=1015, timestamp=1674948250950, timestamp_type=0, key=b'partition_key_1', value={'value': 86}, headers=[], checksum=None, serialized_key_size=15, serialized_value_size=13, serialized_header_size=-1)\n",
            "ConsumerRecord(topic='testit', partition=0, offset=1016, timestamp=1674948251746, timestamp_type=0, key=b'partition_key_1', value={'value': 50}, headers=[], checksum=None, serialized_key_size=15, serialized_value_size=13, serialized_header_size=-1)\n",
            "ConsumerRecord(topic='testit', partition=0, offset=1017, timestamp=1674948252075, timestamp_type=0, key=b'partition_key_1', value={'value': 93}, headers=[], checksum=None, serialized_key_size=15, serialized_value_size=13, serialized_header_size=-1)\n",
            "ConsumerRecord(topic='testit', partition=0, offset=1018, timestamp=1674948252547, timestamp_type=0, key=b'partition_key_1', value={'value': 5}, headers=[], checksum=None, serialized_key_size=15, serialized_value_size=12, serialized_header_size=-1)\n",
            "ConsumerRecord(topic='testit', partition=0, offset=1019, timestamp=1674948252951, timestamp_type=0, key=b'partition_key_1', value={'value': 7}, headers=[], checksum=None, serialized_key_size=15, serialized_value_size=12, serialized_header_size=-1)\n",
            "ConsumerRecord(topic='testit', partition=0, offset=1020, timestamp=1674948253749, timestamp_type=0, key=b'partition_key_1', value={'value': 52}, headers=[], checksum=None, serialized_key_size=15, serialized_value_size=13, serialized_header_size=-1)\n",
            "ConsumerRecord(topic='testit', partition=0, offset=1021, timestamp=1674948254077, timestamp_type=0, key=b'partition_key_1', value={'value': 71}, headers=[], checksum=None, serialized_key_size=15, serialized_value_size=13, serialized_header_size=-1)\n",
            "ConsumerRecord(topic='testit', partition=0, offset=1022, timestamp=1674948254550, timestamp_type=0, key=b'partition_key_1', value={'value': 19}, headers=[], checksum=None, serialized_key_size=15, serialized_value_size=13, serialized_header_size=-1)\n",
            "ConsumerRecord(topic='testit', partition=0, offset=1023, timestamp=1674948254953, timestamp_type=0, key=b'partition_key_1', value={'value': 6}, headers=[], checksum=None, serialized_key_size=15, serialized_value_size=12, serialized_header_size=-1)\n",
            "ConsumerRecord(topic='testit', partition=0, offset=1024, timestamp=1674948255751, timestamp_type=0, key=b'partition_key_1', value={'value': 63}, headers=[], checksum=None, serialized_key_size=15, serialized_value_size=13, serialized_header_size=-1)\n",
            "ConsumerRecord(topic='testit', partition=0, offset=1025, timestamp=1674948256078, timestamp_type=0, key=b'partition_key_1', value={'value': 91}, headers=[], checksum=None, serialized_key_size=15, serialized_value_size=13, serialized_header_size=-1)\n",
            "ConsumerRecord(topic='testit', partition=0, offset=1026, timestamp=1674948256552, timestamp_type=0, key=b'partition_key_1', value={'value': 50}, headers=[], checksum=None, serialized_key_size=15, serialized_value_size=13, serialized_header_size=-1)\n",
            "ConsumerRecord(topic='testit', partition=0, offset=1027, timestamp=1674948256955, timestamp_type=0, key=b'partition_key_1', value={'value': 58}, headers=[], checksum=None, serialized_key_size=15, serialized_value_size=13, serialized_header_size=-1)\n",
            "ConsumerRecord(topic='testit', partition=0, offset=1028, timestamp=1674948257754, timestamp_type=0, key=b'partition_key_1', value={'value': 54}, headers=[], checksum=None, serialized_key_size=15, serialized_value_size=13, serialized_header_size=-1)\n",
            "ConsumerRecord(topic='testit', partition=0, offset=1029, timestamp=1674948257944, timestamp_type=0, key=b'partition_key_1', value={'value': 55}, headers=[], checksum=None, serialized_key_size=15, serialized_value_size=13, serialized_header_size=-1)\n",
            "ConsumerRecord(topic='testit', partition=0, offset=1030, timestamp=1674948258080, timestamp_type=0, key=b'partition_key_1', value={'value': 30}, headers=[], checksum=None, serialized_key_size=15, serialized_value_size=13, serialized_header_size=-1)\n",
            "ConsumerRecord(topic='testit', partition=0, offset=1031, timestamp=1674948258555, timestamp_type=0, key=b'partition_key_1', value={'value': 65}, headers=[], checksum=None, serialized_key_size=15, serialized_value_size=13, serialized_header_size=-1)\n",
            "ConsumerRecord(topic='testit', partition=0, offset=1032, timestamp=1674948258957, timestamp_type=0, key=b'partition_key_1', value={'value': 75}, headers=[], checksum=None, serialized_key_size=15, serialized_value_size=13, serialized_header_size=-1)\n",
            "ConsumerRecord(topic='testit', partition=0, offset=1033, timestamp=1674948259756, timestamp_type=0, key=b'partition_key_1', value={'value': 70}, headers=[], checksum=None, serialized_key_size=15, serialized_value_size=13, serialized_header_size=-1)\n",
            "ConsumerRecord(topic='testit', partition=0, offset=1034, timestamp=1674948260083, timestamp_type=0, key=b'partition_key_1', value={'value': 82}, headers=[], checksum=None, serialized_key_size=15, serialized_value_size=13, serialized_header_size=-1)\n",
            "ConsumerRecord(topic='testit', partition=0, offset=1035, timestamp=1674948260556, timestamp_type=0, key=b'partition_key_1', value={'value': 60}, headers=[], checksum=None, serialized_key_size=15, serialized_value_size=13, serialized_header_size=-1)\n",
            "ConsumerRecord(topic='testit', partition=0, offset=1036, timestamp=1674948260959, timestamp_type=0, key=b'partition_key_1', value={'value': 26}, headers=[], checksum=None, serialized_key_size=15, serialized_value_size=13, serialized_header_size=-1)\n",
            "ConsumerRecord(topic='testit', partition=0, offset=1037, timestamp=1674948261758, timestamp_type=0, key=b'partition_key_1', value={'value': 26}, headers=[], checksum=None, serialized_key_size=15, serialized_value_size=13, serialized_header_size=-1)\n",
            "ConsumerRecord(topic='testit', partition=0, offset=1038, timestamp=1674948262085, timestamp_type=0, key=b'partition_key_1', value={'value': 98}, headers=[], checksum=None, serialized_key_size=15, serialized_value_size=13, serialized_header_size=-1)\n",
            "ConsumerRecord(topic='testit', partition=0, offset=1039, timestamp=1674948262558, timestamp_type=0, key=b'partition_key_1', value={'value': 29}, headers=[], checksum=None, serialized_key_size=15, serialized_value_size=13, serialized_header_size=-1)\n",
            "ConsumerRecord(topic='testit', partition=0, offset=1040, timestamp=1674948262962, timestamp_type=0, key=b'partition_key_1', value={'value': 69}, headers=[], checksum=None, serialized_key_size=15, serialized_value_size=13, serialized_header_size=-1)\n",
            "ConsumerRecord(topic='testit', partition=0, offset=1041, timestamp=1674948263761, timestamp_type=0, key=b'partition_key_1', value={'value': 7}, headers=[], checksum=None, serialized_key_size=15, serialized_value_size=12, serialized_header_size=-1)\n",
            "ConsumerRecord(topic='testit', partition=0, offset=1042, timestamp=1674948264088, timestamp_type=0, key=b'partition_key_1', value={'value': 37}, headers=[], checksum=None, serialized_key_size=15, serialized_value_size=13, serialized_header_size=-1)\n",
            "ConsumerRecord(topic='testit', partition=0, offset=1043, timestamp=1674948264561, timestamp_type=0, key=b'partition_key_1', value={'value': 22}, headers=[], checksum=None, serialized_key_size=15, serialized_value_size=13, serialized_header_size=-1)\n",
            "ConsumerRecord(topic='testit', partition=0, offset=1044, timestamp=1674948264964, timestamp_type=0, key=b'partition_key_1', value={'value': 23}, headers=[], checksum=None, serialized_key_size=15, serialized_value_size=13, serialized_header_size=-1)\n",
            "ConsumerRecord(topic='testit', partition=0, offset=1045, timestamp=1674948265763, timestamp_type=0, key=b'partition_key_1', value={'value': 28}, headers=[], checksum=None, serialized_key_size=15, serialized_value_size=13, serialized_header_size=-1)\n",
            "ConsumerRecord(topic='testit', partition=0, offset=1046, timestamp=1674948266088, timestamp_type=0, key=b'partition_key_1', value={'value': 18}, headers=[], checksum=None, serialized_key_size=15, serialized_value_size=13, serialized_header_size=-1)\n",
            "ConsumerRecord(topic='testit', partition=0, offset=1047, timestamp=1674948266563, timestamp_type=0, key=b'partition_key_1', value={'value': 52}, headers=[], checksum=None, serialized_key_size=15, serialized_value_size=13, serialized_header_size=-1)\n",
            "ConsumerRecord(topic='testit', partition=0, offset=1048, timestamp=1674948266966, timestamp_type=0, key=b'partition_key_1', value={'value': 3}, headers=[], checksum=None, serialized_key_size=15, serialized_value_size=12, serialized_header_size=-1)\n",
            "ConsumerRecord(topic='testit', partition=0, offset=1049, timestamp=1674948267765, timestamp_type=0, key=b'partition_key_1', value={'value': 22}, headers=[], checksum=None, serialized_key_size=15, serialized_value_size=13, serialized_header_size=-1)\n",
            "ConsumerRecord(topic='testit', partition=0, offset=1050, timestamp=1674948267954, timestamp_type=0, key=b'partition_key_1', value={'value': 38}, headers=[], checksum=None, serialized_key_size=15, serialized_value_size=13, serialized_header_size=-1)\n",
            "ConsumerRecord(topic='testit', partition=0, offset=1051, timestamp=1674948268089, timestamp_type=0, key=b'partition_key_1', value={'value': 88}, headers=[], checksum=None, serialized_key_size=15, serialized_value_size=13, serialized_header_size=-1)\n",
            "ConsumerRecord(topic='testit', partition=0, offset=1052, timestamp=1674948268565, timestamp_type=0, key=b'partition_key_1', value={'value': 96}, headers=[], checksum=None, serialized_key_size=15, serialized_value_size=13, serialized_header_size=-1)\n",
            "ConsumerRecord(topic='testit', partition=0, offset=1053, timestamp=1674948268969, timestamp_type=0, key=b'partition_key_1', value={'value': 7}, headers=[], checksum=None, serialized_key_size=15, serialized_value_size=12, serialized_header_size=-1)\n",
            "ConsumerRecord(topic='testit', partition=0, offset=1054, timestamp=1674948269768, timestamp_type=0, key=b'partition_key_1', value={'value': 15}, headers=[], checksum=None, serialized_key_size=15, serialized_value_size=13, serialized_header_size=-1)\n",
            "ConsumerRecord(topic='testit', partition=0, offset=1055, timestamp=1674948270091, timestamp_type=0, key=b'partition_key_1', value={'value': 32}, headers=[], checksum=None, serialized_key_size=15, serialized_value_size=13, serialized_header_size=-1)\n",
            "ConsumerRecord(topic='testit', partition=0, offset=1056, timestamp=1674948270566, timestamp_type=0, key=b'partition_key_1', value={'value': 65}, headers=[], checksum=None, serialized_key_size=15, serialized_value_size=13, serialized_header_size=-1)\n",
            "ConsumerRecord(topic='testit', partition=0, offset=1057, timestamp=1674948270971, timestamp_type=0, key=b'partition_key_1', value={'value': 50}, headers=[], checksum=None, serialized_key_size=15, serialized_value_size=13, serialized_header_size=-1)\n",
            "ConsumerRecord(topic='testit', partition=0, offset=1058, timestamp=1674948271770, timestamp_type=0, key=b'partition_key_1', value={'value': 60}, headers=[], checksum=None, serialized_key_size=15, serialized_value_size=13, serialized_header_size=-1)\n",
            "ConsumerRecord(topic='testit', partition=0, offset=1059, timestamp=1674948272094, timestamp_type=0, key=b'partition_key_1', value={'value': 74}, headers=[], checksum=None, serialized_key_size=15, serialized_value_size=13, serialized_header_size=-1)\n",
            "ConsumerRecord(topic='testit', partition=0, offset=1060, timestamp=1674948272568, timestamp_type=0, key=b'partition_key_1', value={'value': 15}, headers=[], checksum=None, serialized_key_size=15, serialized_value_size=13, serialized_header_size=-1)\n",
            "ConsumerRecord(topic='testit', partition=0, offset=1061, timestamp=1674948272972, timestamp_type=0, key=b'partition_key_1', value={'value': 90}, headers=[], checksum=None, serialized_key_size=15, serialized_value_size=13, serialized_header_size=-1)\n",
            "ConsumerRecord(topic='testit', partition=0, offset=1062, timestamp=1674948305377, timestamp_type=0, key=b'partition_key_1', value={'value': 32}, headers=[], checksum=None, serialized_key_size=15, serialized_value_size=13, serialized_header_size=-1)\n",
            "ConsumerRecord(topic='testit', partition=0, offset=1063, timestamp=1674948315387, timestamp_type=0, key=b'partition_key_1', value={'value': 34}, headers=[], checksum=None, serialized_key_size=15, serialized_value_size=13, serialized_header_size=-1)\n",
            "ConsumerRecord(topic='testit', partition=0, offset=1064, timestamp=1674948325395, timestamp_type=0, key=b'partition_key_1', value={'value': 32}, headers=[], checksum=None, serialized_key_size=15, serialized_value_size=13, serialized_header_size=-1)\n",
            "ConsumerRecord(topic='testit', partition=0, offset=1065, timestamp=1674948335403, timestamp_type=0, key=b'partition_key_1', value={'value': 30}, headers=[], checksum=None, serialized_key_size=15, serialized_value_size=13, serialized_header_size=-1)\n",
            "ConsumerRecord(topic='testit', partition=0, offset=1066, timestamp=1674948345414, timestamp_type=0, key=b'partition_key_1', value={'value': 48}, headers=[], checksum=None, serialized_key_size=15, serialized_value_size=13, serialized_header_size=-1)\n"
          ]
        },
        {
          "ename": "KeyboardInterrupt",
          "evalue": "ignored",
          "output_type": "error",
          "traceback": [
            "\u001b[0;31m---------------------------------------------------------------------------\u001b[0m",
            "\u001b[0;31mKeyboardInterrupt\u001b[0m                         Traceback (most recent call last)",
            "\u001b[0;32m<ipython-input-4-b9ab636da8b0>\u001b[0m in \u001b[0;36m<module>\u001b[0;34m\u001b[0m\n\u001b[1;32m     14\u001b[0m \u001b[0;34m\u001b[0m\u001b[0m\n\u001b[1;32m     15\u001b[0m \u001b[0;32mfrom\u001b[0m \u001b[0mpprint\u001b[0m \u001b[0;32mimport\u001b[0m \u001b[0mpprint\u001b[0m \u001b[0;32mas\u001b[0m \u001b[0mpp\u001b[0m\u001b[0;34m\u001b[0m\u001b[0;34m\u001b[0m\u001b[0m\n\u001b[0;32m---> 16\u001b[0;31m \u001b[0;32mfor\u001b[0m \u001b[0mmsg\u001b[0m \u001b[0;32min\u001b[0m \u001b[0mconsumer\u001b[0m\u001b[0;34m:\u001b[0m\u001b[0;34m\u001b[0m\u001b[0;34m\u001b[0m\u001b[0m\n\u001b[0m\u001b[1;32m     17\u001b[0m     \u001b[0mpp\u001b[0m\u001b[0;34m(\u001b[0m\u001b[0mmsg\u001b[0m\u001b[0;34m)\u001b[0m\u001b[0;34m\u001b[0m\u001b[0;34m\u001b[0m\u001b[0m\n",
            "\u001b[0;32m/usr/local/lib/python3.8/dist-packages/kafka/consumer/group.py\u001b[0m in \u001b[0;36m__next__\u001b[0;34m(self)\u001b[0m\n\u001b[1;32m   1191\u001b[0m             \u001b[0;32mreturn\u001b[0m \u001b[0mself\u001b[0m\u001b[0;34m.\u001b[0m\u001b[0mnext_v1\u001b[0m\u001b[0;34m(\u001b[0m\u001b[0;34m)\u001b[0m\u001b[0;34m\u001b[0m\u001b[0;34m\u001b[0m\u001b[0m\n\u001b[1;32m   1192\u001b[0m         \u001b[0;32melse\u001b[0m\u001b[0;34m:\u001b[0m\u001b[0;34m\u001b[0m\u001b[0;34m\u001b[0m\u001b[0m\n\u001b[0;32m-> 1193\u001b[0;31m             \u001b[0;32mreturn\u001b[0m \u001b[0mself\u001b[0m\u001b[0;34m.\u001b[0m\u001b[0mnext_v2\u001b[0m\u001b[0;34m(\u001b[0m\u001b[0;34m)\u001b[0m\u001b[0;34m\u001b[0m\u001b[0;34m\u001b[0m\u001b[0m\n\u001b[0m\u001b[1;32m   1194\u001b[0m \u001b[0;34m\u001b[0m\u001b[0m\n\u001b[1;32m   1195\u001b[0m     \u001b[0;32mdef\u001b[0m \u001b[0mnext_v2\u001b[0m\u001b[0;34m(\u001b[0m\u001b[0mself\u001b[0m\u001b[0;34m)\u001b[0m\u001b[0;34m:\u001b[0m\u001b[0;34m\u001b[0m\u001b[0;34m\u001b[0m\u001b[0m\n",
            "\u001b[0;32m/usr/local/lib/python3.8/dist-packages/kafka/consumer/group.py\u001b[0m in \u001b[0;36mnext_v2\u001b[0;34m(self)\u001b[0m\n\u001b[1;32m   1199\u001b[0m                 \u001b[0mself\u001b[0m\u001b[0;34m.\u001b[0m\u001b[0m_iterator\u001b[0m \u001b[0;34m=\u001b[0m \u001b[0mself\u001b[0m\u001b[0;34m.\u001b[0m\u001b[0m_message_generator_v2\u001b[0m\u001b[0;34m(\u001b[0m\u001b[0;34m)\u001b[0m\u001b[0;34m\u001b[0m\u001b[0;34m\u001b[0m\u001b[0m\n\u001b[1;32m   1200\u001b[0m             \u001b[0;32mtry\u001b[0m\u001b[0;34m:\u001b[0m\u001b[0;34m\u001b[0m\u001b[0;34m\u001b[0m\u001b[0m\n\u001b[0;32m-> 1201\u001b[0;31m                 \u001b[0;32mreturn\u001b[0m \u001b[0mnext\u001b[0m\u001b[0;34m(\u001b[0m\u001b[0mself\u001b[0m\u001b[0;34m.\u001b[0m\u001b[0m_iterator\u001b[0m\u001b[0;34m)\u001b[0m\u001b[0;34m\u001b[0m\u001b[0;34m\u001b[0m\u001b[0m\n\u001b[0m\u001b[1;32m   1202\u001b[0m             \u001b[0;32mexcept\u001b[0m \u001b[0mStopIteration\u001b[0m\u001b[0;34m:\u001b[0m\u001b[0;34m\u001b[0m\u001b[0;34m\u001b[0m\u001b[0m\n\u001b[1;32m   1203\u001b[0m                 \u001b[0mself\u001b[0m\u001b[0;34m.\u001b[0m\u001b[0m_iterator\u001b[0m \u001b[0;34m=\u001b[0m \u001b[0;32mNone\u001b[0m\u001b[0;34m\u001b[0m\u001b[0;34m\u001b[0m\u001b[0m\n",
            "\u001b[0;32m/usr/local/lib/python3.8/dist-packages/kafka/consumer/group.py\u001b[0m in \u001b[0;36m_message_generator_v2\u001b[0;34m(self)\u001b[0m\n\u001b[1;32m   1114\u001b[0m     \u001b[0;32mdef\u001b[0m \u001b[0m_message_generator_v2\u001b[0m\u001b[0;34m(\u001b[0m\u001b[0mself\u001b[0m\u001b[0;34m)\u001b[0m\u001b[0;34m:\u001b[0m\u001b[0;34m\u001b[0m\u001b[0;34m\u001b[0m\u001b[0m\n\u001b[1;32m   1115\u001b[0m         \u001b[0mtimeout_ms\u001b[0m \u001b[0;34m=\u001b[0m \u001b[0;36m1000\u001b[0m \u001b[0;34m*\u001b[0m \u001b[0;34m(\u001b[0m\u001b[0mself\u001b[0m\u001b[0;34m.\u001b[0m\u001b[0m_consumer_timeout\u001b[0m \u001b[0;34m-\u001b[0m \u001b[0mtime\u001b[0m\u001b[0;34m.\u001b[0m\u001b[0mtime\u001b[0m\u001b[0;34m(\u001b[0m\u001b[0;34m)\u001b[0m\u001b[0;34m)\u001b[0m\u001b[0;34m\u001b[0m\u001b[0;34m\u001b[0m\u001b[0m\n\u001b[0;32m-> 1116\u001b[0;31m         \u001b[0mrecord_map\u001b[0m \u001b[0;34m=\u001b[0m \u001b[0mself\u001b[0m\u001b[0;34m.\u001b[0m\u001b[0mpoll\u001b[0m\u001b[0;34m(\u001b[0m\u001b[0mtimeout_ms\u001b[0m\u001b[0;34m=\u001b[0m\u001b[0mtimeout_ms\u001b[0m\u001b[0;34m,\u001b[0m \u001b[0mupdate_offsets\u001b[0m\u001b[0;34m=\u001b[0m\u001b[0;32mFalse\u001b[0m\u001b[0;34m)\u001b[0m\u001b[0;34m\u001b[0m\u001b[0;34m\u001b[0m\u001b[0m\n\u001b[0m\u001b[1;32m   1117\u001b[0m         \u001b[0;32mfor\u001b[0m \u001b[0mtp\u001b[0m\u001b[0;34m,\u001b[0m \u001b[0mrecords\u001b[0m \u001b[0;32min\u001b[0m \u001b[0msix\u001b[0m\u001b[0;34m.\u001b[0m\u001b[0miteritems\u001b[0m\u001b[0;34m(\u001b[0m\u001b[0mrecord_map\u001b[0m\u001b[0;34m)\u001b[0m\u001b[0;34m:\u001b[0m\u001b[0;34m\u001b[0m\u001b[0;34m\u001b[0m\u001b[0m\n\u001b[1;32m   1118\u001b[0m             \u001b[0;31m# Generators are stateful, and it is possible that the tp / records\u001b[0m\u001b[0;34m\u001b[0m\u001b[0;34m\u001b[0m\u001b[0;34m\u001b[0m\u001b[0m\n",
            "\u001b[0;32m/usr/local/lib/python3.8/dist-packages/kafka/consumer/group.py\u001b[0m in \u001b[0;36mpoll\u001b[0;34m(self, timeout_ms, max_records, update_offsets)\u001b[0m\n\u001b[1;32m    653\u001b[0m         \u001b[0mremaining\u001b[0m \u001b[0;34m=\u001b[0m \u001b[0mtimeout_ms\u001b[0m\u001b[0;34m\u001b[0m\u001b[0;34m\u001b[0m\u001b[0m\n\u001b[1;32m    654\u001b[0m         \u001b[0;32mwhile\u001b[0m \u001b[0;32mTrue\u001b[0m\u001b[0;34m:\u001b[0m\u001b[0;34m\u001b[0m\u001b[0;34m\u001b[0m\u001b[0m\n\u001b[0;32m--> 655\u001b[0;31m             \u001b[0mrecords\u001b[0m \u001b[0;34m=\u001b[0m \u001b[0mself\u001b[0m\u001b[0;34m.\u001b[0m\u001b[0m_poll_once\u001b[0m\u001b[0;34m(\u001b[0m\u001b[0mremaining\u001b[0m\u001b[0;34m,\u001b[0m \u001b[0mmax_records\u001b[0m\u001b[0;34m,\u001b[0m \u001b[0mupdate_offsets\u001b[0m\u001b[0;34m=\u001b[0m\u001b[0mupdate_offsets\u001b[0m\u001b[0;34m)\u001b[0m\u001b[0;34m\u001b[0m\u001b[0;34m\u001b[0m\u001b[0m\n\u001b[0m\u001b[1;32m    656\u001b[0m             \u001b[0;32mif\u001b[0m \u001b[0mrecords\u001b[0m\u001b[0;34m:\u001b[0m\u001b[0;34m\u001b[0m\u001b[0;34m\u001b[0m\u001b[0m\n\u001b[1;32m    657\u001b[0m                 \u001b[0;32mreturn\u001b[0m \u001b[0mrecords\u001b[0m\u001b[0;34m\u001b[0m\u001b[0;34m\u001b[0m\u001b[0m\n",
            "\u001b[0;32m/usr/local/lib/python3.8/dist-packages/kafka/consumer/group.py\u001b[0m in \u001b[0;36m_poll_once\u001b[0;34m(self, timeout_ms, max_records, update_offsets)\u001b[0m\n\u001b[1;32m    700\u001b[0m \u001b[0;34m\u001b[0m\u001b[0m\n\u001b[1;32m    701\u001b[0m         \u001b[0mtimeout_ms\u001b[0m \u001b[0;34m=\u001b[0m \u001b[0mmin\u001b[0m\u001b[0;34m(\u001b[0m\u001b[0mtimeout_ms\u001b[0m\u001b[0;34m,\u001b[0m \u001b[0mself\u001b[0m\u001b[0;34m.\u001b[0m\u001b[0m_coordinator\u001b[0m\u001b[0;34m.\u001b[0m\u001b[0mtime_to_next_poll\u001b[0m\u001b[0;34m(\u001b[0m\u001b[0;34m)\u001b[0m \u001b[0;34m*\u001b[0m \u001b[0;36m1000\u001b[0m\u001b[0;34m)\u001b[0m\u001b[0;34m\u001b[0m\u001b[0;34m\u001b[0m\u001b[0m\n\u001b[0;32m--> 702\u001b[0;31m         \u001b[0mself\u001b[0m\u001b[0;34m.\u001b[0m\u001b[0m_client\u001b[0m\u001b[0;34m.\u001b[0m\u001b[0mpoll\u001b[0m\u001b[0;34m(\u001b[0m\u001b[0mtimeout_ms\u001b[0m\u001b[0;34m=\u001b[0m\u001b[0mtimeout_ms\u001b[0m\u001b[0;34m)\u001b[0m\u001b[0;34m\u001b[0m\u001b[0;34m\u001b[0m\u001b[0m\n\u001b[0m\u001b[1;32m    703\u001b[0m         \u001b[0;31m# after the long poll, we should check whether the group needs to rebalance\u001b[0m\u001b[0;34m\u001b[0m\u001b[0;34m\u001b[0m\u001b[0;34m\u001b[0m\u001b[0m\n\u001b[1;32m    704\u001b[0m         \u001b[0;31m# prior to returning data so that the group can stabilize faster\u001b[0m\u001b[0;34m\u001b[0m\u001b[0;34m\u001b[0m\u001b[0;34m\u001b[0m\u001b[0m\n",
            "\u001b[0;32m/usr/local/lib/python3.8/dist-packages/kafka/client_async.py\u001b[0m in \u001b[0;36mpoll\u001b[0;34m(self, timeout_ms, future)\u001b[0m\n\u001b[1;32m    600\u001b[0m                     \u001b[0mtimeout\u001b[0m \u001b[0;34m=\u001b[0m \u001b[0mmax\u001b[0m\u001b[0;34m(\u001b[0m\u001b[0;36m0\u001b[0m\u001b[0;34m,\u001b[0m \u001b[0mtimeout\u001b[0m\u001b[0;34m)\u001b[0m  \u001b[0;31m# avoid negative timeouts\u001b[0m\u001b[0;34m\u001b[0m\u001b[0;34m\u001b[0m\u001b[0m\n\u001b[1;32m    601\u001b[0m \u001b[0;34m\u001b[0m\u001b[0m\n\u001b[0;32m--> 602\u001b[0;31m                 \u001b[0mself\u001b[0m\u001b[0;34m.\u001b[0m\u001b[0m_poll\u001b[0m\u001b[0;34m(\u001b[0m\u001b[0mtimeout\u001b[0m \u001b[0;34m/\u001b[0m \u001b[0;36m1000\u001b[0m\u001b[0;34m)\u001b[0m\u001b[0;34m\u001b[0m\u001b[0;34m\u001b[0m\u001b[0m\n\u001b[0m\u001b[1;32m    603\u001b[0m \u001b[0;34m\u001b[0m\u001b[0m\n\u001b[1;32m    604\u001b[0m             \u001b[0;31m# called without the lock to avoid deadlock potential\u001b[0m\u001b[0;34m\u001b[0m\u001b[0;34m\u001b[0m\u001b[0;34m\u001b[0m\u001b[0m\n",
            "\u001b[0;32m/usr/local/lib/python3.8/dist-packages/kafka/client_async.py\u001b[0m in \u001b[0;36m_poll\u001b[0;34m(self, timeout)\u001b[0m\n\u001b[1;32m    632\u001b[0m \u001b[0;34m\u001b[0m\u001b[0m\n\u001b[1;32m    633\u001b[0m         \u001b[0mstart_select\u001b[0m \u001b[0;34m=\u001b[0m \u001b[0mtime\u001b[0m\u001b[0;34m.\u001b[0m\u001b[0mtime\u001b[0m\u001b[0;34m(\u001b[0m\u001b[0;34m)\u001b[0m\u001b[0;34m\u001b[0m\u001b[0;34m\u001b[0m\u001b[0m\n\u001b[0;32m--> 634\u001b[0;31m         \u001b[0mready\u001b[0m \u001b[0;34m=\u001b[0m \u001b[0mself\u001b[0m\u001b[0;34m.\u001b[0m\u001b[0m_selector\u001b[0m\u001b[0;34m.\u001b[0m\u001b[0mselect\u001b[0m\u001b[0;34m(\u001b[0m\u001b[0mtimeout\u001b[0m\u001b[0;34m)\u001b[0m\u001b[0;34m\u001b[0m\u001b[0;34m\u001b[0m\u001b[0m\n\u001b[0m\u001b[1;32m    635\u001b[0m         \u001b[0mend_select\u001b[0m \u001b[0;34m=\u001b[0m \u001b[0mtime\u001b[0m\u001b[0;34m.\u001b[0m\u001b[0mtime\u001b[0m\u001b[0;34m(\u001b[0m\u001b[0;34m)\u001b[0m\u001b[0;34m\u001b[0m\u001b[0;34m\u001b[0m\u001b[0m\n\u001b[1;32m    636\u001b[0m         \u001b[0;32mif\u001b[0m \u001b[0mself\u001b[0m\u001b[0;34m.\u001b[0m\u001b[0m_sensors\u001b[0m\u001b[0;34m:\u001b[0m\u001b[0;34m\u001b[0m\u001b[0;34m\u001b[0m\u001b[0m\n",
            "\u001b[0;32m/usr/lib/python3.8/selectors.py\u001b[0m in \u001b[0;36mselect\u001b[0;34m(self, timeout)\u001b[0m\n\u001b[1;32m    466\u001b[0m             \u001b[0mready\u001b[0m \u001b[0;34m=\u001b[0m \u001b[0;34m[\u001b[0m\u001b[0;34m]\u001b[0m\u001b[0;34m\u001b[0m\u001b[0;34m\u001b[0m\u001b[0m\n\u001b[1;32m    467\u001b[0m             \u001b[0;32mtry\u001b[0m\u001b[0;34m:\u001b[0m\u001b[0;34m\u001b[0m\u001b[0;34m\u001b[0m\u001b[0m\n\u001b[0;32m--> 468\u001b[0;31m                 \u001b[0mfd_event_list\u001b[0m \u001b[0;34m=\u001b[0m \u001b[0mself\u001b[0m\u001b[0;34m.\u001b[0m\u001b[0m_selector\u001b[0m\u001b[0;34m.\u001b[0m\u001b[0mpoll\u001b[0m\u001b[0;34m(\u001b[0m\u001b[0mtimeout\u001b[0m\u001b[0;34m,\u001b[0m \u001b[0mmax_ev\u001b[0m\u001b[0;34m)\u001b[0m\u001b[0;34m\u001b[0m\u001b[0;34m\u001b[0m\u001b[0m\n\u001b[0m\u001b[1;32m    469\u001b[0m             \u001b[0;32mexcept\u001b[0m \u001b[0mInterruptedError\u001b[0m\u001b[0;34m:\u001b[0m\u001b[0;34m\u001b[0m\u001b[0;34m\u001b[0m\u001b[0m\n\u001b[1;32m    470\u001b[0m                 \u001b[0;32mreturn\u001b[0m \u001b[0mready\u001b[0m\u001b[0;34m\u001b[0m\u001b[0;34m\u001b[0m\u001b[0m\n",
            "\u001b[0;31mKeyboardInterrupt\u001b[0m: "
          ]
        }
      ],
      "source": [
        "import json\n",
        "from kafka import KafkaConsumer\n",
        "\n",
        "kafka_servers = [\"127.0.0.1:9092\"]\n",
        "\n",
        "consumer = KafkaConsumer(\n",
        "    bootstrap_servers=kafka_servers,\n",
        "    value_deserializer=lambda v: json.loads(v),\n",
        "    auto_offset_reset='earliest',\n",
        "    group_id='worker-group-2'\n",
        ")\n",
        "\n",
        "consumer.subscribe([\"testit\"])\n",
        "\n",
        "from pprint import pprint as pp\n",
        "for msg in consumer:\n",
        "    pp(msg)\n"
      ]
    },
    {
      "cell_type": "code",
      "execution_count": 3,
      "metadata": {
        "colab": {
          "base_uri": "https://localhost:8080/"
        },
        "id": "1JL7nPoZspIe",
        "outputId": "6a5bcb38-dfdc-4093-9967-1729c883c164"
      },
      "outputs": [
        {
          "name": "stdout",
          "output_type": "stream",
          "text": [
            "UID          PID    PPID  C STIME TTY          TIME CMD\n",
            "root           1       0  0 22:35 ?        00:00:00 /sbin/docker-init -- /datala\n",
            "root           7       1  0 22:35 ?        00:00:10 /tools/node/bin/node /datala\n",
            "root          18       0  0 22:35 ?        00:00:00 tail -n +0 -F /root/.config/\n",
            "root          31       7  0 22:35 ?        00:00:03 /bin/bash -e /usr/local/cola\n",
            "root          33       1  0 22:35 ?        00:00:00 /bin/bash -e /datalab/run.sh\n",
            "root          35      33  0 22:35 ?        00:00:02 /usr/colab/bin/kernel_manage\n",
            "root          63       7  0 22:35 ?        00:00:06 [python3] <defunct>\n",
            "root          64       7  0 22:35 ?        00:00:00 python3 /usr/local/bin/colab\n",
            "root          86       7  0 22:35 ?        00:00:07 /usr/bin/python3 /usr/local/\n",
            "root          87       7  0 22:35 ?        00:00:04 /usr/local/bin/dap_multiplex\n",
            "root       12305       1  0 22:54 ?        00:00:05 java -Xmx512M -Xms512M -serv\n",
            "root       12765       1  1 22:54 ?        00:00:33 java -Xmx1G -Xms1G -server -\n",
            "root       21146      86  5 23:24 ?        00:00:02 /usr/bin/python3 -m ipykerne\n",
            "root       21171       1  0 23:24 ?        00:00:00 /usr/bin/python3 /usr/local/\n",
            "root       21192       7 23 23:24 ?        00:00:08 node /datalab/web/pyright/py\n",
            "root       21316       1  1 23:25 ?        00:00:00 python3 producer.py\n",
            "root       21370      31  0 23:25 ?        00:00:00 sleep 1\n",
            "root       21371   21146  0 23:25 ?        00:00:00 ps -ef\n"
          ]
        }
      ],
      "source": [
        "!ps -ef"
      ]
    },
    {
      "cell_type": "code",
      "execution_count": null,
      "metadata": {
        "id": "aC5mKIAarVNi"
      },
      "outputs": [],
      "source": [
        "!killall python3"
      ]
    },
    {
      "cell_type": "code",
      "execution_count": 5,
      "metadata": {
        "colab": {
          "base_uri": "https://localhost:8080/"
        },
        "id": "2_vdHTQ1hXxY",
        "outputId": "dd795e9e-99b1-4907-daae-bfb7c51298a9"
      },
      "outputs": [
        {
          "name": "stdout",
          "output_type": "stream",
          "text": [
            "--2023-01-28 23:26:55--  https://dlcdn.apache.org/spark/spark-3.3.1/spark-3.3.1-bin-hadoop3.tgz\n",
            "Resolving dlcdn.apache.org (dlcdn.apache.org)... 151.101.2.132, 2a04:4e42::644\n",
            "Connecting to dlcdn.apache.org (dlcdn.apache.org)|151.101.2.132|:443... connected.\n",
            "HTTP request sent, awaiting response... 200 OK\n",
            "Length: 299350810 (285M) [application/x-gzip]\n",
            "Saving to: ‘spark-3.3.1-bin-hadoop3.tgz’\n",
            "\n",
            "spark-3.3.1-bin-had 100%[===================>] 285.48M   233MB/s    in 1.2s    \n",
            "\n",
            "2023-01-28 23:26:56 (233 MB/s) - ‘spark-3.3.1-bin-hadoop3.tgz’ saved [299350810/299350810]\n",
            "\n"
          ]
        }
      ],
      "source": [
        "!apt-get install openjdk-11-jdk-headless -qq > /dev/null\n",
        "!wget https://dlcdn.apache.org/spark/spark-3.3.1/spark-3.3.1-bin-hadoop3.tgz -O spark-3.3.1-bin-hadoop3.tgz\n",
        "!tar xf spark-3.3.1-bin-hadoop3.tgz"
      ]
    },
    {
      "cell_type": "code",
      "execution_count": 6,
      "metadata": {
        "id": "WLapOJSlipVb"
      },
      "outputs": [],
      "source": [
        "import os\n",
        "os.environ[\"JAVA_HOME\"] = \"/usr/lib/jvm/java-11-openjdk-amd64\"\n",
        "os.environ[\"SPARK_HOME\"] = \"/content/spark-3.3.1-bin-hadoop3\""
      ]
    },
    {
      "cell_type": "code",
      "execution_count": 8,
      "metadata": {
        "colab": {
          "base_uri": "https://localhost:8080/"
        },
        "id": "O6Ix9VcxtWzi",
        "outputId": "0bb11d9d-a651-417f-b416-2e55bbfcc06e"
      },
      "outputs": [
        {
          "name": "stdout",
          "output_type": "stream",
          "text": [
            "Looking in indexes: https://pypi.org/simple, https://us-python.pkg.dev/colab-wheels/public/simple/\n",
            "Collecting pyspark\n",
            "  Downloading pyspark-3.3.1.tar.gz (281.4 MB)\n",
            "\u001b[2K     \u001b[90m━━━━━━━━━━━━━━━━━━━━━━━━━━━━━━━━━━━━━━━\u001b[0m \u001b[32m281.4/281.4 MB\u001b[0m \u001b[31m5.2 MB/s\u001b[0m eta \u001b[36m0:00:00\u001b[0m\n",
            "\u001b[?25h  Preparing metadata (setup.py) ... \u001b[?25l\u001b[?25hdone\n",
            "Collecting py4j==0.10.9.5\n",
            "  Downloading py4j-0.10.9.5-py2.py3-none-any.whl (199 kB)\n",
            "\u001b[2K     \u001b[90m━━━━━━━━━━━━━━━━━━━━━━━━━━━━━━━━━━━━━━\u001b[0m \u001b[32m199.7/199.7 KB\u001b[0m \u001b[31m10.8 MB/s\u001b[0m eta \u001b[36m0:00:00\u001b[0m\n",
            "\u001b[?25hBuilding wheels for collected packages: pyspark\n",
            "  Building wheel for pyspark (setup.py) ... \u001b[?25l\u001b[?25hdone\n",
            "  Created wheel for pyspark: filename=pyspark-3.3.1-py2.py3-none-any.whl size=281845512 sha256=27fc5730aaad66c43d1d01bc3707594fa34b370727fa23e91a60cf8495f20059\n",
            "  Stored in directory: /root/.cache/pip/wheels/43/dc/11/ec201cd671da62fa9c5cc77078235e40722170ceba231d7598\n",
            "Successfully built pyspark\n",
            "Installing collected packages: py4j, pyspark\n",
            "Successfully installed py4j-0.10.9.5 pyspark-3.3.1\n"
          ]
        }
      ],
      "source": [
        "pip install pyspark"
      ]
    },
    {
      "cell_type": "code",
      "execution_count": 9,
      "metadata": {
        "id": "V0dzhAwXtSHk"
      },
      "outputs": [],
      "source": [
        "from pyspark.sql import SparkSession\n",
        "\n",
        "spark = (SparkSession.builder\n",
        "        .master(\"local\")\n",
        "        .appName(\"Spark playground\")\n",
        "        .getOrCreate())"
      ]
    },
    {
      "cell_type": "code",
      "execution_count": 10,
      "metadata": {
        "colab": {
          "base_uri": "https://localhost:8080/",
          "height": 221
        },
        "id": "4LkYrCSptoAg",
        "outputId": "416569eb-db48-4b0d-cb5d-62a4a86bc3a1"
      },
      "outputs": [
        {
          "data": {
            "text/html": [
              "\n",
              "            <div>\n",
              "                <p><b>SparkSession - in-memory</b></p>\n",
              "                \n",
              "        <div>\n",
              "            <p><b>SparkContext</b></p>\n",
              "\n",
              "            <p><a href=\"http://53e68da1a7a1:4040\">Spark UI</a></p>\n",
              "\n",
              "            <dl>\n",
              "              <dt>Version</dt>\n",
              "                <dd><code>v3.3.1</code></dd>\n",
              "              <dt>Master</dt>\n",
              "                <dd><code>local</code></dd>\n",
              "              <dt>AppName</dt>\n",
              "                <dd><code>Spark playground</code></dd>\n",
              "            </dl>\n",
              "        </div>\n",
              "        \n",
              "            </div>\n",
              "        "
            ],
            "text/plain": [
              "<pyspark.sql.session.SparkSession at 0x7f3c2da080d0>"
            ]
          },
          "execution_count": 10,
          "metadata": {},
          "output_type": "execute_result"
        }
      ],
      "source": [
        "spark"
      ]
    },
    {
      "cell_type": "code",
      "execution_count": null,
      "metadata": {
        "id": "dpecdPYguXjM"
      },
      "outputs": [],
      "source": []
    },
    {
      "cell_type": "code",
      "execution_count": 11,
      "metadata": {
        "colab": {
          "base_uri": "https://localhost:8080/"
        },
        "id": "XHxpDKeXuX7h",
        "outputId": "da836e15-303b-4543-c1a9-ef301668b284"
      },
      "outputs": [
        {
          "name": "stdout",
          "output_type": "stream",
          "text": [
            "Mounted at /content/drive\n"
          ]
        }
      ],
      "source": [
        "from google.colab import drive\n",
        "drive.mount('/content/drive')"
      ]
    },
    {
      "cell_type": "code",
      "execution_count": 32,
      "metadata": {
        "id": "QvxHZnwItpPF"
      },
      "outputs": [],
      "source": [
        "from pyspark.sql.types import *\n",
        "schema = StructType([\n",
        "    StructField('Datetime', TimestampType()),\n",
        "    StructField('Open', DecimalType(), True),\n",
        "    StructField('High', DecimalType(), True),\n",
        "    StructField('Low', DecimalType(), True),\n",
        "    StructField('Close', DecimalType(), True),\n",
        "    StructField('Volume', IntegerType(), True),\n",
        "    StructField('Dividends', DoubleType(), True),\n",
        "    StructField('Stock Splits', DoubleType(), True)\n",
        "])\n",
        "df = (spark.read\n",
        "      .option(\"header\", True)\n",
        "      .option(\"recursiveFileLookup\", True)\n",
        "      .option(\"delimiter\", ',')\n",
        "      .schema(schema)\n",
        "      .csv('/content/drive/MyDrive/fo'))"
      ]
    },
    {
      "cell_type": "code",
      "execution_count": 34,
      "metadata": {
        "colab": {
          "base_uri": "https://localhost:8080/"
        },
        "id": "1uHJ6FHevwHF",
        "outputId": "d19ff4ac-7916-4b4a-8689-db4e8bf0abd5"
      },
      "outputs": [
        {
          "name": "stdout",
          "output_type": "stream",
          "text": [
            "root\n",
            " |-- Datetime: timestamp (nullable = true)\n",
            " |-- Open: decimal(10,0) (nullable = true)\n",
            " |-- High: decimal(10,0) (nullable = true)\n",
            " |-- Low: decimal(10,0) (nullable = true)\n",
            " |-- Close: decimal(10,0) (nullable = true)\n",
            " |-- Volume: integer (nullable = true)\n",
            " |-- Dividends: double (nullable = true)\n",
            " |-- Stock Splits: double (nullable = true)\n",
            "\n"
          ]
        }
      ],
      "source": [
        "df.printSchema()"
      ]
    },
    {
      "cell_type": "code",
      "execution_count": 35,
      "metadata": {
        "colab": {
          "base_uri": "https://localhost:8080/"
        },
        "id": "7lV6hICywriI",
        "outputId": "6f8bf720-bb37-48df-9e4f-b5d10956db5a"
      },
      "outputs": [
        {
          "name": "stdout",
          "output_type": "stream",
          "text": [
            "+-------------------+----+----+---+-----+------+---------+------------+\n",
            "|           Datetime|Open|High|Low|Close|Volume|Dividends|Stock Splits|\n",
            "+-------------------+----+----+---+-----+------+---------+------------+\n",
            "|2023-01-11 08:00:00|  62|  63| 62|   62|     0|      0.0|         0.0|\n",
            "|2023-01-11 08:01:00|  63|  63| 62|   62|  4296|      0.0|         0.0|\n",
            "+-------------------+----+----+---+-----+------+---------+------------+\n",
            "only showing top 2 rows\n",
            "\n"
          ]
        }
      ],
      "source": [
        "df.show(2)"
      ]
    },
    {
      "cell_type": "code",
      "execution_count": 36,
      "metadata": {
        "id": "QAy4Ob23wvPf"
      },
      "outputs": [],
      "source": [
        "df.createOrReplaceTempView('stocks')"
      ]
    },
    {
      "cell_type": "markdown",
      "metadata": {
        "id": "9gyOpiwFyQki"
      },
      "source": []
    },
    {
      "cell_type": "code",
      "execution_count": 57,
      "metadata": {
        "id": "VYeE8ZEDw0MI"
      },
      "outputs": [],
      "source": [
        "stocks = spark.sql('''\n",
        "  select \n",
        "    regexp_replace(input_file_name(), '.*([A-Z]{3}\\.WA).*', '$1') as ticker,\n",
        "    from_utc_timestamp(DateTime, 'Europe/Warsaw') datetime,\n",
        "    to_date(DateTime) as date,\n",
        "    Open open,\n",
        "    High high,\n",
        "    Close close,\n",
        "    Volume volume\n",
        "    from stocks limit \n",
        "''')"
      ]
    },
    {
      "cell_type": "code",
      "execution_count": 59,
      "metadata": {
        "id": "t2QOfjp4zJuK"
      },
      "outputs": [],
      "source": [
        "(stocks.write\n",
        "  .option('overwrite', True)\n",
        "  .partitionBy(['ticker', 'date']).parquet(\"/content/drive/MyDrive/fo/stocks\"))"
      ]
    },
    {
      "cell_type": "code",
      "execution_count": 60,
      "metadata": {
        "id": "VE0Hwd5g1A3w"
      },
      "outputs": [],
      "source": [
        "loadedDf = spark.read.parquet(\"/content/drive/MyDrive/fo/stocks\")"
      ]
    },
    {
      "cell_type": "code",
      "execution_count": 61,
      "metadata": {
        "colab": {
          "base_uri": "https://localhost:8080/"
        },
        "id": "oyyfYhfI1G7a",
        "outputId": "a138fd96-05d7-415c-9a0c-e33f39d95079"
      },
      "outputs": [
        {
          "name": "stdout",
          "output_type": "stream",
          "text": [
            "+-------------------+----+----+-----+------+------+----------+\n",
            "|           datetime|open|high|close|volume|ticker|      date|\n",
            "+-------------------+----+----+-----+------+------+----------+\n",
            "|2023-01-05 08:00:00|  65|  65|   65|     0|PKN.WA|2023-01-05|\n",
            "|2023-01-05 08:01:00|  65|  65|   65|  5155|PKN.WA|2023-01-05|\n",
            "|2023-01-05 08:02:00|  65|  65|   65|  6039|PKN.WA|2023-01-05|\n",
            "|2023-01-05 08:03:00|  65|  65|   65|  2006|PKN.WA|2023-01-05|\n",
            "|2023-01-05 08:04:00|  65|  65|   65|  3868|PKN.WA|2023-01-05|\n",
            "|2023-01-05 08:05:00|  65|  65|   65|  3643|PKN.WA|2023-01-05|\n",
            "|2023-01-05 08:06:00|  65|  66|   65| 11558|PKN.WA|2023-01-05|\n",
            "|2023-01-05 08:07:00|  65|  65|   65|  9340|PKN.WA|2023-01-05|\n",
            "|2023-01-05 08:08:00|  65|  65|   65|  4344|PKN.WA|2023-01-05|\n",
            "|2023-01-05 08:09:00|  65|  65|   65|  5372|PKN.WA|2023-01-05|\n",
            "+-------------------+----+----+-----+------+------+----------+\n",
            "only showing top 10 rows\n",
            "\n"
          ]
        }
      ],
      "source": [
        "loadedDf.show(10)\n"
      ]
    },
    {
      "cell_type": "code",
      "execution_count": 62,
      "metadata": {
        "colab": {
          "base_uri": "https://localhost:8080/"
        },
        "id": "pstDOs2c1J5m",
        "outputId": "50831cfd-05ec-416a-c342-e4c50e271257"
      },
      "outputs": [
        {
          "name": "stdout",
          "output_type": "stream",
          "text": [
            "root\n",
            " |-- datetime: timestamp (nullable = true)\n",
            " |-- open: decimal(10,0) (nullable = true)\n",
            " |-- high: decimal(10,0) (nullable = true)\n",
            " |-- close: decimal(10,0) (nullable = true)\n",
            " |-- volume: integer (nullable = true)\n",
            " |-- ticker: string (nullable = true)\n",
            " |-- date: date (nullable = true)\n",
            "\n"
          ]
        }
      ],
      "source": [
        "loadedDf.printSchema()"
      ]
    },
    {
      "cell_type": "code",
      "execution_count": 63,
      "metadata": {
        "colab": {
          "base_uri": "https://localhost:8080/"
        },
        "id": "vdFVNn812Rdx",
        "outputId": "a2f23b49-0261-4a80-bd55-f11dfd48c84e"
      },
      "outputs": [
        {
          "name": "stdout",
          "output_type": "stream",
          "text": [
            "Looking in indexes: https://pypi.org/simple, https://us-python.pkg.dev/colab-wheels/public/simple/\n",
            "Requirement already satisfied: pandas in /usr/local/lib/python3.8/dist-packages (1.3.5)\n",
            "Requirement already satisfied: pytz>=2017.3 in /usr/local/lib/python3.8/dist-packages (from pandas) (2022.7)\n",
            "Requirement already satisfied: python-dateutil>=2.7.3 in /usr/local/lib/python3.8/dist-packages (from pandas) (2.8.2)\n",
            "Requirement already satisfied: numpy>=1.17.3 in /usr/local/lib/python3.8/dist-packages (from pandas) (1.21.6)\n",
            "Requirement already satisfied: six>=1.5 in /usr/local/lib/python3.8/dist-packages (from python-dateutil>=2.7.3->pandas) (1.15.0)\n"
          ]
        }
      ],
      "source": [
        "pip install pandas"
      ]
    },
    {
      "cell_type": "code",
      "execution_count": 64,
      "metadata": {
        "id": "ydi0Xzc12UWV"
      },
      "outputs": [],
      "source": [
        "loadedDf.createOrReplaceTempView('stocks')"
      ]
    },
    {
      "cell_type": "code",
      "execution_count": 100,
      "metadata": {
        "colab": {
          "base_uri": "https://localhost:8080/"
        },
        "id": "2dJ1YjhN2ZBV",
        "outputId": "abb94d08-9068-4e18-b9c9-531c9c0d85aa"
      },
      "outputs": [
        {
          "name": "stdout",
          "output_type": "stream",
          "text": [
            "+------+-------------------+----------+-----+----+\n",
            "|ticker|           datetime|      date|close|rank|\n",
            "+------+-------------------+----------+-----+----+\n",
            "|PKN.WA|2023-01-26 16:05:00|2023-01-26|   68|   1|\n",
            "|PKN.WA|2023-01-25 16:04:00|2023-01-25|   64|   1|\n",
            "|PKN.WA|2023-01-24 16:03:00|2023-01-24|   65|   1|\n",
            "|PKN.WA|2023-01-23 16:04:00|2023-01-23|   65|   1|\n",
            "|PKN.WA|2023-01-20 16:04:00|2023-01-20|   64|   1|\n",
            "|PKN.WA|2023-01-19 16:04:00|2023-01-19|   63|   1|\n",
            "|PKN.WA|2023-01-18 16:04:00|2023-01-18|   64|   1|\n",
            "|PKN.WA|2023-01-17 16:04:00|2023-01-17|   62|   1|\n",
            "|PKN.WA|2023-01-16 16:04:00|2023-01-16|   63|   1|\n",
            "|PKN.WA|2023-01-13 16:00:00|2023-01-13|   63|   1|\n",
            "|PKN.WA|2023-01-12 16:04:00|2023-01-12|   63|   1|\n",
            "|PKN.WA|2023-01-11 16:03:00|2023-01-11|   62|   1|\n",
            "|PKN.WA|2023-01-10 16:04:00|2023-01-10|   62|   1|\n",
            "|PKN.WA|2023-01-09 16:04:00|2023-01-09|   62|   1|\n",
            "|PKN.WA|2023-01-05 16:04:00|2023-01-05|   62|   1|\n",
            "|PKN.WA|2023-01-04 16:03:00|2023-01-04|   66|   1|\n",
            "|PKN.WA|2023-01-03 16:03:00|2023-01-03|   65|   1|\n",
            "|PKN.WA|2023-01-02 16:03:00|2023-01-02|   65|   1|\n",
            "|PKN.WA|2022-12-30 16:04:00|2022-12-30|   64|   1|\n",
            "+------+-------------------+----------+-----+----+\n",
            "\n"
          ]
        }
      ],
      "source": [
        "spark.sql('''\n",
        "  with ranked as (\n",
        "  select\n",
        "    ticker,\n",
        "    datetime,\n",
        "    date, \n",
        "    close, \n",
        "    rank() over (partition by date order by datetime DESC) as rank\n",
        "  from stocks\n",
        "  where ticker = \"PKN.WA\"\n",
        "  order by datetime DESC)\n",
        "  \n",
        "  select * from ranked where rank = 1\n",
        "  ''').show()"
      ]
    },
    {
      "cell_type": "code",
      "execution_count": 144,
      "metadata": {
        "id": "01jB5xmd58p8"
      },
      "outputs": [],
      "source": [
        "asPd = spark.sql('''\n",
        "  with ranked as (\n",
        "  select\n",
        "    ticker,\n",
        "    datetime,\n",
        "    date, \n",
        "    close, \n",
        "    rank() over (partition by date order by datetime DESC) as rank\n",
        "  from stocks\n",
        "  where ticker = \"PKN.WA\"\n",
        "  order by datetime DESC)\n",
        "  \n",
        "  select date, cast (close as float) from ranked where rank = 1\n",
        "  ''').toPandas()"
      ]
    },
    {
      "cell_type": "code",
      "execution_count": 145,
      "metadata": {
        "colab": {
          "base_uri": "https://localhost:8080/",
          "height": 372
        },
        "id": "n2uV4gTr7r5f",
        "outputId": "5d5a05a3-444b-41c5-a976-7b735946f93b"
      },
      "outputs": [
        {
          "data": {
            "text/plain": [
              "<matplotlib.axes._subplots.AxesSubplot at 0x7f3c21f391c0>"
            ]
          },
          "execution_count": 145,
          "metadata": {},
          "output_type": "execute_result"
        },
        {
          "data": {
            "image/png": "[encoded data removed]",
            "text/plain": [
              "<Figure size 1152x360 with 1 Axes>"
            ]
          },
          "metadata": {
            "needs_background": "light"
          },
          "output_type": "display_data"
        }
      ],
      "source": [
        "%matplotlib inline\n",
        "import matplotlib.pyplot as plt\n",
        "plt.rcParams['figure.figsize'] = [16, 5]\n",
        "asPd.set_index('date').plot.line()"
      ]
    },
    {
      "cell_type": "code",
      "execution_count": 198,
      "metadata": {
        "id": "Rgtrgk6p-iLT"
      },
      "outputs": [],
      "source": [
        "toModelAll = spark.sql('''\n",
        "  select\n",
        "    ticker,\n",
        "    from_utc_timestamp(datetime, 'Europe/Warsaw') datetime,\n",
        "    date, \n",
        "    close,\n",
        "    lag(close, 1) over (order by datetime) lag_close_1,\n",
        "    lag(close, 2) over (order by datetime) lag_close_2,\n",
        "    lag(close, 3) over (order by datetime) lag_close_3,\n",
        "    lag(close, 4) over (order by datetime) lag_close_4,\n",
        "    lag(close, 5) over (order by datetime) lag_close_5,\n",
        "    volume,\n",
        "    lag(volume, 1) over (order by datetime) lag_volume_1,\n",
        "    lag(volume, 2) over (order by datetime) lag_volume_2,\n",
        "    lag(volume, 3) over (order by datetime) lag_volume_3,\n",
        "    lag(volume, 4) over (order by datetime) lag_volume_4,\n",
        "    lag(volume, 5) over (order by datetime) lag_volume_5\n",
        "  from stocks\n",
        "  where ticker = \"PKN.WA\" and date_format(from_utc_timestamp(datetime, 'Europe/Warsaw'), 'HH:mm:ss') >= \"09:00:00\" and date_format(from_utc_timestamp(datetime, 'Europe/Warsaw'), 'HH:mm:ss') < \"17:00:00\"\n",
        "  order by datetime DESC\n",
        "''').drop()\n"
      ]
    },
    {
      "cell_type": "code",
      "execution_count": 199,
      "metadata": {
        "colab": {
          "base_uri": "https://localhost:8080/"
        },
        "id": "EO0j9wWA-mdp",
        "outputId": "3aa783b5-1c7f-43a8-bdd0-2985554925ca"
      },
      "outputs": [
        {
          "name": "stdout",
          "output_type": "stream",
          "text": [
            "+------+-------------------+----------+-----+-----------+-----------+-----------+-----------+-----------+------+------------+------------+------------+------------+------------+\n",
            "|ticker|           datetime|      date|close|lag_close_1|lag_close_2|lag_close_3|lag_close_4|lag_close_5|volume|lag_volume_1|lag_volume_2|lag_volume_3|lag_volume_4|lag_volume_5|\n",
            "+------+-------------------+----------+-----+-----------+-----------+-----------+-----------+-----------+------+------------+------------+------------+------------+------------+\n",
            "|PKN.WA|2023-01-26 16:49:00|2023-01-26|   65|         65|         65|         65|         65|         65|  5857|        5986|         972|        5967|        9171|        2821|\n",
            "|PKN.WA|2023-01-26 16:48:00|2023-01-26|   65|         65|         65|         65|         65|         65|  5986|         972|        5967|        9171|        2821|        3205|\n",
            "|PKN.WA|2023-01-26 16:47:00|2023-01-26|   65|         65|         65|         65|         65|         65|   972|        5967|        9171|        2821|        3205|        7238|\n",
            "|PKN.WA|2023-01-26 16:46:00|2023-01-26|   65|         65|         65|         65|         65|         65|  5967|        9171|        2821|        3205|        7238|        5338|\n",
            "|PKN.WA|2023-01-26 16:45:00|2023-01-26|   65|         65|         65|         65|         65|         65|  9171|        2821|        3205|        7238|        5338|        3152|\n",
            "|PKN.WA|2023-01-26 16:44:00|2023-01-26|   65|         65|         65|         65|         65|         65|  2821|        3205|        7238|        5338|        3152|        3968|\n",
            "|PKN.WA|2023-01-26 16:43:00|2023-01-26|   65|         65|         65|         65|         65|         65|  3205|        7238|        5338|        3152|        3968|        1937|\n",
            "|PKN.WA|2023-01-26 16:42:00|2023-01-26|   65|         65|         65|         65|         65|         65|  7238|        5338|        3152|        3968|        1937|        6174|\n",
            "|PKN.WA|2023-01-26 16:41:00|2023-01-26|   65|         65|         65|         65|         65|         65|  5338|        3152|        3968|        1937|        6174|        2074|\n",
            "|PKN.WA|2023-01-26 16:40:00|2023-01-26|   65|         65|         65|         65|         65|         65|  3152|        3968|        1937|        6174|        2074|        1853|\n",
            "|PKN.WA|2023-01-26 16:39:00|2023-01-26|   65|         65|         65|         65|         65|         65|  3968|        1937|        6174|        2074|        1853|        1303|\n",
            "|PKN.WA|2023-01-26 16:38:00|2023-01-26|   65|         65|         65|         65|         65|         65|  1937|        6174|        2074|        1853|        1303|       14367|\n",
            "|PKN.WA|2023-01-26 16:37:00|2023-01-26|   65|         65|         65|         65|         65|         65|  6174|        2074|        1853|        1303|       14367|        1339|\n",
            "|PKN.WA|2023-01-26 16:36:00|2023-01-26|   65|         65|         65|         65|         65|         65|  2074|        1853|        1303|       14367|        1339|       16222|\n",
            "|PKN.WA|2023-01-26 16:35:00|2023-01-26|   65|         65|         65|         65|         65|         65|  1853|        1303|       14367|        1339|       16222|        6452|\n",
            "|PKN.WA|2023-01-26 16:34:00|2023-01-26|   65|         65|         65|         65|         65|         65|  1303|       14367|        1339|       16222|        6452|        8152|\n",
            "|PKN.WA|2023-01-26 16:33:00|2023-01-26|   65|         65|         65|         65|         65|         65| 14367|        1339|       16222|        6452|        8152|        1098|\n",
            "|PKN.WA|2023-01-26 16:32:00|2023-01-26|   65|         65|         65|         65|         65|         65|  1339|       16222|        6452|        8152|        1098|        2168|\n",
            "|PKN.WA|2023-01-26 16:31:00|2023-01-26|   65|         65|         65|         65|         65|         65| 16222|        6452|        8152|        1098|        2168|       14205|\n",
            "|PKN.WA|2023-01-26 16:30:00|2023-01-26|   65|         65|         65|         65|         65|         65|  6452|        8152|        1098|        2168|       14205|         951|\n",
            "+------+-------------------+----------+-----+-----------+-----------+-----------+-----------+-----------+------+------------+------------+------------+------------+------------+\n",
            "only showing top 20 rows\n",
            "\n"
          ]
        }
      ],
      "source": [
        "toModelAll.show()"
      ]
    },
    {
      "cell_type": "code",
      "execution_count": 199,
      "metadata": {
        "id": "r2s8xbnhBzBZ"
      },
      "outputs": [],
      "source": []
    },
    {
      "cell_type": "markdown",
      "metadata": {
        "id": "nXALjbjWB_AE"
      },
      "source": [
        "# Features"
      ]
    },
    {
      "cell_type": "code",
      "execution_count": 200,
      "metadata": {
        "id": "Abt1DQupCAVP"
      },
      "outputs": [],
      "source": [
        "from pyspark.ml.feature import VectorAssembler"
      ]
    },
    {
      "cell_type": "code",
      "execution_count": 201,
      "metadata": {
        "id": "zEs4c1NhCCMn"
      },
      "outputs": [],
      "source": [
        "va = VectorAssembler(inputCols = ['lag_close_1', 'lag_close_2','lag_close_3','lag_close_4','lag_close_5','lag_volume_1','lag_volume_2','lag_volume_3','lag_volume_4','lag_volume_5'], outputCol = 'features')"
      ]
    },
    {
      "cell_type": "code",
      "execution_count": 202,
      "metadata": {
        "colab": {
          "base_uri": "https://localhost:8080/"
        },
        "id": "IB9iiRK-DOXs",
        "outputId": "c3283995-8333-493b-d88a-beb2a68efd33"
      },
      "outputs": [
        {
          "name": "stdout",
          "output_type": "stream",
          "text": [
            "root\n",
            " |-- ticker: string (nullable = true)\n",
            " |-- datetime: timestamp (nullable = true)\n",
            " |-- date: date (nullable = true)\n",
            " |-- close: decimal(10,0) (nullable = true)\n",
            " |-- lag_close_1: decimal(10,0) (nullable = true)\n",
            " |-- lag_close_2: decimal(10,0) (nullable = true)\n",
            " |-- lag_close_3: decimal(10,0) (nullable = true)\n",
            " |-- lag_close_4: decimal(10,0) (nullable = true)\n",
            " |-- lag_close_5: decimal(10,0) (nullable = true)\n",
            " |-- volume: integer (nullable = true)\n",
            " |-- lag_volume_1: integer (nullable = true)\n",
            " |-- lag_volume_2: integer (nullable = true)\n",
            " |-- lag_volume_3: integer (nullable = true)\n",
            " |-- lag_volume_4: integer (nullable = true)\n",
            " |-- lag_volume_5: integer (nullable = true)\n",
            "\n"
          ]
        }
      ],
      "source": [
        "toModelAll.printSchema()"
      ]
    },
    {
      "cell_type": "code",
      "execution_count": 224,
      "metadata": {
        "id": "AccHIAihDxTG"
      },
      "outputs": [],
      "source": [
        "toModelAll = toModelAll.dropna()"
      ]
    },
    {
      "cell_type": "code",
      "execution_count": 225,
      "metadata": {
        "id": "je_0o_7bCTCO"
      },
      "outputs": [],
      "source": [
        "reg_df = va.transform(toModelAll)"
      ]
    },
    {
      "cell_type": "code",
      "execution_count": 226,
      "metadata": {
        "colab": {
          "base_uri": "https://localhost:8080/"
        },
        "id": "Sghmh5wvCVlJ",
        "outputId": "9b58f676-9e71-4e89-ff7a-3747c942c8ee"
      },
      "outputs": [
        {
          "name": "stdout",
          "output_type": "stream",
          "text": [
            "+--------------------+-----+\n",
            "|            features|close|\n",
            "+--------------------+-----+\n",
            "|[65.0,65.0,65.0,6...|   65|\n",
            "|[65.0,65.0,65.0,6...|   65|\n",
            "|[65.0,65.0,65.0,6...|   65|\n",
            "+--------------------+-----+\n",
            "only showing top 3 rows\n",
            "\n"
          ]
        }
      ],
      "source": [
        "reg_df.select('features', 'close').show(3)"
      ]
    },
    {
      "cell_type": "markdown",
      "metadata": {
        "id": "ghqmpq6sCqHr"
      },
      "source": [
        "https://spark.apache.org/docs/latest/ml-classification-regression.html https://spark.apache.org/docs/latest/api/python/pyspark.ml.html#pyspark.ml.regression.LinearRegression\n",
        "\n"
      ]
    },
    {
      "cell_type": "code",
      "execution_count": 227,
      "metadata": {
        "id": "TMKN5ydiCpVa"
      },
      "outputs": [],
      "source": [
        "from pyspark.ml.regression import LinearRegression\n",
        "from pyspark.ml.evaluation import RegressionEvaluator"
      ]
    },
    {
      "cell_type": "code",
      "execution_count": 228,
      "metadata": {
        "colab": {
          "base_uri": "https://localhost:8080/"
        },
        "id": "Nx7fGKyBC83s",
        "outputId": "b0a0e413-a1dc-4d8b-9ae5-9760e1bd56cd"
      },
      "outputs": [
        {
          "name": "stdout",
          "output_type": "stream",
          "text": [
            "root\n",
            " |-- features: vector (nullable = true)\n",
            " |-- close: decimal(10,0) (nullable = true)\n",
            "\n"
          ]
        }
      ],
      "source": [
        "reg_df.select('features', 'close').printSchema()"
      ]
    },
    {
      "cell_type": "code",
      "execution_count": 229,
      "metadata": {
        "id": "IpcTEMHBCpZ-"
      },
      "outputs": [],
      "source": [
        "(train_df, test_df) = reg_df.randomSplit([0.7, 0.3])\n"
      ]
    },
    {
      "cell_type": "code",
      "execution_count": 230,
      "metadata": {
        "colab": {
          "base_uri": "https://localhost:8080/"
        },
        "id": "IaQZXYlGDfwZ",
        "outputId": "bf0b1f6c-ee00-45b1-f722-b970409054cb"
      },
      "outputs": [
        {
          "name": "stdout",
          "output_type": "stream",
          "text": [
            "+------+-------------------+----------+-----+-----------+-----------+-----------+-----------+-----------+------+------------+------------+------------+------------+------------+--------------------+\n",
            "|ticker|           datetime|      date|close|lag_close_1|lag_close_2|lag_close_3|lag_close_4|lag_close_5|volume|lag_volume_1|lag_volume_2|lag_volume_3|lag_volume_4|lag_volume_5|            features|\n",
            "+------+-------------------+----------+-----+-----------+-----------+-----------+-----------+-----------+------+------------+------------+------------+------------+------------+--------------------+\n",
            "|PKN.WA|2022-12-30 09:07:00|2022-12-30|   64|         64|         64|         64|         64|         64|    10|         440|          70|        3615|         557|         815|[64.0,64.0,64.0,6...|\n",
            "|PKN.WA|2022-12-30 09:08:00|2022-12-30|   64|         64|         64|         64|         64|         64|   993|          10|         440|          70|        3615|         557|[64.0,64.0,64.0,6...|\n",
            "|PKN.WA|2022-12-30 09:11:00|2022-12-30|   64|         64|         64|         64|         64|         64|  2299|         993|          10|         440|          70|        3615|[64.0,64.0,64.0,6...|\n",
            "|PKN.WA|2022-12-30 09:12:00|2022-12-30|   64|         64|         64|         64|         64|         64|    18|        2299|         993|          10|         440|          70|[64.0,64.0,64.0,6...|\n",
            "|PKN.WA|2022-12-30 09:13:00|2022-12-30|   64|         64|         64|         64|         64|         64|   462|          18|        2299|         993|          10|         440|[64.0,64.0,64.0,6...|\n",
            "|PKN.WA|2022-12-30 09:14:00|2022-12-30|   64|         64|         64|         64|         64|         64|  9321|         462|          18|        2299|         993|          10|[64.0,64.0,64.0,6...|\n",
            "|PKN.WA|2022-12-30 09:15:00|2022-12-30|   64|         64|         64|         64|         64|         64|     2|        9321|         462|          18|        2299|         993|[64.0,64.0,64.0,6...|\n",
            "|PKN.WA|2022-12-30 09:16:00|2022-12-30|   64|         64|         64|         64|         64|         64|  3341|           2|        9321|         462|          18|        2299|[64.0,64.0,64.0,6...|\n",
            "|PKN.WA|2022-12-30 09:17:00|2022-12-30|   64|         64|         64|         64|         64|         64|  3254|        3341|           2|        9321|         462|          18|[64.0,64.0,64.0,6...|\n",
            "|PKN.WA|2022-12-30 09:18:00|2022-12-30|   64|         64|         64|         64|         64|         64|   200|        3254|        3341|           2|        9321|         462|[64.0,64.0,64.0,6...|\n",
            "|PKN.WA|2022-12-30 09:19:00|2022-12-30|   64|         64|         64|         64|         64|         64|    50|         200|        3254|        3341|           2|        9321|[64.0,64.0,64.0,6...|\n",
            "|PKN.WA|2022-12-30 09:20:00|2022-12-30|   64|         64|         64|         64|         64|         64|  1505|          50|         200|        3254|        3341|           2|[64.0,64.0,64.0,6...|\n",
            "|PKN.WA|2022-12-30 09:21:00|2022-12-30|   64|         64|         64|         64|         64|         64|  6291|        1505|          50|         200|        3254|        3341|[64.0,64.0,64.0,6...|\n",
            "|PKN.WA|2022-12-30 09:23:00|2022-12-30|   64|         64|         64|         64|         64|         64|  1056|        6291|        1505|          50|         200|        3254|[64.0,64.0,64.0,6...|\n",
            "|PKN.WA|2022-12-30 09:25:00|2022-12-30|   64|         64|         64|         64|         64|         64|    93|        6465|        1056|        6291|        1505|          50|[64.0,64.0,64.0,6...|\n",
            "|PKN.WA|2022-12-30 09:26:00|2022-12-30|   64|         64|         64|         64|         64|         64|    17|          93|        6465|        1056|        6291|        1505|[64.0,64.0,64.0,6...|\n",
            "|PKN.WA|2022-12-30 09:27:00|2022-12-30|   64|         64|         64|         64|         64|         64|   544|          17|          93|        6465|        1056|        6291|[64.0,64.0,64.0,6...|\n",
            "|PKN.WA|2022-12-30 09:30:00|2022-12-30|   64|         64|         64|         64|         64|         64|  1593|        1229|         544|          17|          93|        6465|[64.0,64.0,64.0,6...|\n",
            "|PKN.WA|2022-12-30 09:31:00|2022-12-30|   64|         64|         64|         64|         64|         64|   983|        1593|        1229|         544|          17|          93|[64.0,64.0,64.0,6...|\n",
            "|PKN.WA|2022-12-30 09:32:00|2022-12-30|   64|         64|         64|         64|         64|         64|  1019|         983|        1593|        1229|         544|          17|[64.0,64.0,64.0,6...|\n",
            "+------+-------------------+----------+-----+-----------+-----------+-----------+-----------+-----------+------+------------+------------+------------+------------+------------+--------------------+\n",
            "only showing top 20 rows\n",
            "\n"
          ]
        }
      ],
      "source": [
        "train_df.show()"
      ]
    },
    {
      "cell_type": "code",
      "execution_count": 231,
      "metadata": {
        "id": "LdBz4QD5DdH4"
      },
      "outputs": [],
      "source": [
        " \n",
        "lr = LinearRegression(featuresCol='features',labelCol='close')\n",
        " \n",
        "lr_model = lr.fit(train_df)"
      ]
    },
    {
      "cell_type": "code",
      "execution_count": 232,
      "metadata": {
        "colab": {
          "base_uri": "https://localhost:8080/"
        },
        "id": "hdpDeh2HCkY2",
        "outputId": "ccf55018-bcf2-4913-c138-c675fd0116a7"
      },
      "outputs": [
        {
          "name": "stdout",
          "output_type": "stream",
          "text": [
            "Coefficients: [0.6196506226189417,0.17221293294938028,0.024134210239417506,0.08417088587563083,0.09525810025817205,-5.4149279080012714e-08,-1.6613674997448953e-07,1.0256935237231099e-07,-9.284493688993309e-08,-1.2821924431870398e-07]\n",
            "Intercept: 0.29308715084486425\n"
          ]
        }
      ],
      "source": [
        "print(\"Coefficients: \" + str(lr_model.coefficients))\n",
        "print(\"Intercept: \" + str(lr_model.intercept))"
      ]
    },
    {
      "cell_type": "code",
      "execution_count": null,
      "metadata": {
        "id": "Gn1APRnMFF-h"
      },
      "outputs": [],
      "source": []
    },
    {
      "cell_type": "markdown",
      "metadata": {
        "id": "qVqBWh8wFKrG"
      },
      "source": [
        "\n",
        "$$ \\hat{Y} = X_{1}{\\beta}_{1} + ... + X_{n}{\\beta}_{n} + {\\beta}_0 $$\n",
        "$$ \\hat{Y} = 0.6196 * X_{1} + ... + X_{n}{\\beta}_{n} + 0.293 $$"
      ]
    },
    {
      "cell_type": "code",
      "execution_count": 233,
      "metadata": {
        "id": "oSdOw4hwFLD0"
      },
      "outputs": [],
      "source": [
        "trainingSummary = lr_model.summary"
      ]
    },
    {
      "cell_type": "code",
      "execution_count": 234,
      "metadata": {
        "colab": {
          "base_uri": "https://localhost:8080/"
        },
        "id": "80DBz7N9F34a",
        "outputId": "ab900077-9c0a-488d-a415-3fd4fe26022a"
      },
      "outputs": [
        {
          "name": "stdout",
          "output_type": "stream",
          "text": [
            "R2: 0.979800\n"
          ]
        }
      ],
      "source": [
        "print(\"R2: %f\" % trainingSummary.r2)"
      ]
    },
    {
      "cell_type": "code",
      "execution_count": 235,
      "metadata": {
        "id": "7ILGW95RF6wP"
      },
      "outputs": [],
      "source": [
        "lr_predictions = lr_model.transform(test_df)"
      ]
    },
    {
      "cell_type": "code",
      "execution_count": 237,
      "metadata": {
        "colab": {
          "base_uri": "https://localhost:8080/"
        },
        "id": "g3ccyp_xGDaN",
        "outputId": "22234edc-54ac-4897-844b-2917367315e1"
      },
      "outputs": [
        {
          "name": "stdout",
          "output_type": "stream",
          "text": [
            "+------------------+-----+--------------------+\n",
            "|        prediction|close|            features|\n",
            "+------------------+-----+--------------------+\n",
            "| 64.00007611117267|   64|[64.0,64.0,64.0,6...|\n",
            "| 63.99961275505283|   64|[64.0,64.0,64.0,6...|\n",
            "| 63.99942100795039|   64|[64.0,64.0,64.0,6...|\n",
            "| 63.99964089048177|   64|[64.0,64.0,64.0,6...|\n",
            "|  64.0001044539158|   64|[64.0,64.0,64.0,6...|\n",
            "| 64.00023109354248|   64|[64.0,64.0,64.0,6...|\n",
            "| 64.00017438593005|   64|[64.0,64.0,64.0,6...|\n",
            "| 64.00004548525573|   64|[64.0,64.0,64.0,6...|\n",
            "| 64.00030755285114|   64|[64.0,64.0,64.0,6...|\n",
            "|  64.0001284815195|   64|[64.0,64.0,64.0,6...|\n",
            "| 64.00024761941371|   64|[64.0,64.0,64.0,6...|\n",
            "| 64.00030946356179|   64|[64.0,64.0,64.0,6...|\n",
            "| 64.00022675748559|   64|[64.0,64.0,64.0,6...|\n",
            "| 64.00029928538548|   64|[64.0,64.0,64.0,6...|\n",
            "| 64.00024067198605|   64|[64.0,64.0,64.0,6...|\n",
            "| 64.00027640566088|   64|[64.0,64.0,64.0,6...|\n",
            "| 64.00001366562259|   64|[64.0,64.0,64.0,6...|\n",
            "|   64.000071772848|   64|[64.0,64.0,64.0,6...|\n",
            "|   64.000153010212|   64|[64.0,64.0,64.0,6...|\n",
            "| 63.99995213089905|   64|[64.0,64.0,64.0,6...|\n",
            "|63.999896492518275|   64|[64.0,64.0,64.0,6...|\n",
            "|63.999975098809614|   64|[64.0,64.0,64.0,6...|\n",
            "| 63.99981779319889|   64|[64.0,64.0,64.0,6...|\n",
            "| 64.17192270042489|   64|[64.0,65.0,64.0,6...|\n",
            "| 64.09457942076315|   64|[64.0,64.0,64.0,6...|\n",
            "|   64.000109824392|   64|[64.0,64.0,64.0,6...|\n",
            "| 64.00034199617167|   64|[64.0,64.0,64.0,6...|\n",
            "| 64.00023982343777|   64|[64.0,64.0,64.0,6...|\n",
            "| 64.00033355221342|   64|[64.0,64.0,64.0,6...|\n",
            "| 64.00000498720266|   64|[64.0,64.0,64.0,6...|\n",
            "| 64.00032796858271|   64|[64.0,64.0,64.0,6...|\n",
            "|  64.0001964911724|   64|[64.0,64.0,64.0,6...|\n",
            "| 64.00027392543899|   64|[64.0,64.0,64.0,6...|\n",
            "| 64.00019057461758|   65|[64.0,64.0,64.0,6...|\n",
            "| 64.08440046472798|   64|[64.0,64.0,64.0,6...|\n",
            "|  64.0954007355696|   64|[64.0,64.0,64.0,6...|\n",
            "| 64.89981664522475|   65|[65.0,65.0,65.0,6...|\n",
            "| 64.99595774096342|   65|[65.0,65.0,65.0,6...|\n",
            "| 64.99556482755223|   65|[65.0,65.0,65.0,6...|\n",
            "| 64.37612287022108|   64|[64.0,65.0,65.0,6...|\n",
            "| 64.17980850130607|   64|[64.0,64.0,64.0,6...|\n",
            "| 64.79207068053904|   65|[65.0,65.0,64.0,6...|\n",
            "| 64.99561301034848|   65|[65.0,65.0,65.0,6...|\n",
            "| 64.99541280897772|   65|[65.0,65.0,65.0,6...|\n",
            "| 64.99558966728814|   65|[65.0,65.0,65.0,6...|\n",
            "| 64.17980405025659|   64|[64.0,64.0,64.0,6...|\n",
            "| 64.61998826773151|   65|[65.0,64.0,64.0,6...|\n",
            "|  64.9007424215265|   65|[65.0,65.0,65.0,6...|\n",
            "| 64.20424835494842|   64|[64.0,64.0,65.0,6...|\n",
            "| 64.79169887114962|   65|[65.0,65.0,64.0,6...|\n",
            "| 64.99481908511636|   65|[65.0,65.0,65.0,6...|\n",
            "| 64.37610385847235|   65|[64.0,65.0,65.0,6...|\n",
            "| 64.28082314181071|   65|[64.0,65.0,65.0,6...|\n",
            "| 64.97137073590832|   65|[65.0,65.0,64.0,6...|\n",
            "|  64.9004616024706|   65|[65.0,65.0,65.0,6...|\n",
            "| 64.99579440840947|   64|[65.0,65.0,65.0,6...|\n",
            "| 64.91146419392616|   65|[65.0,65.0,65.0,6...|\n",
            "| 64.29158061718768|   64|[64.0,65.0,65.0,6...|\n",
            "| 64.09569704005007|   64|[64.0,64.0,64.0,6...|\n",
            "|63.999549117508366|   64|[64.0,64.0,64.0,6...|\n",
            "| 64.00029571643353|   64|[64.0,64.0,64.0,6...|\n",
            "| 64.00045512879741|   64|[64.0,64.0,64.0,6...|\n",
            "| 64.00064357491517|   64|[64.0,64.0,64.0,6...|\n",
            "| 64.00022485196818|   64|[64.0,64.0,64.0,6...|\n",
            "| 64.00019998189518|   64|[64.0,64.0,64.0,6...|\n",
            "| 64.00018551087916|   64|[64.0,64.0,64.0,6...|\n",
            "| 64.00021221685599|   64|[64.0,64.0,64.0,6...|\n",
            "| 64.00034637466591|   64|[64.0,64.0,64.0,6...|\n",
            "| 64.00041542516502|   64|[64.0,64.0,64.0,6...|\n",
            "|  64.0003448168404|   64|[64.0,64.0,64.0,6...|\n",
            "| 64.00030805293113|   64|[64.0,64.0,64.0,6...|\n",
            "| 64.00001787844128|   64|[64.0,64.0,64.0,6...|\n",
            "| 63.99985690652388|   64|[64.0,64.0,64.0,6...|\n",
            "| 64.00005569224128|   64|[64.0,64.0,64.0,6...|\n",
            "|  64.0003866124465|   64|[64.0,64.0,64.0,6...|\n",
            "| 64.00016611435522|   64|[64.0,64.0,64.0,6...|\n",
            "| 64.00024718856623|   64|[64.0,64.0,64.0,6...|\n",
            "| 64.00033245028187|   64|[64.0,64.0,64.0,6...|\n",
            "| 64.00027114501295|   64|[64.0,64.0,64.0,6...|\n",
            "|  64.0002120050531|   64|[64.0,64.0,64.0,6...|\n",
            "|  64.0005031599405|   64|[64.0,64.0,64.0,6...|\n",
            "| 64.00009251313965|   64|[64.0,64.0,64.0,6...|\n",
            "| 64.00017985869748|   64|[64.0,64.0,64.0,6...|\n",
            "| 63.99997392099187|   64|[64.0,64.0,64.0,6...|\n",
            "| 64.00055883772126|   64|[64.0,64.0,64.0,6...|\n",
            "| 64.00014743114987|   64|[64.0,64.0,64.0,6...|\n",
            "| 64.00000347952721|   64|[64.0,64.0,64.0,6...|\n",
            "| 64.00039466044333|   64|[64.0,64.0,64.0,6...|\n",
            "| 64.00038758264444|   64|[64.0,64.0,64.0,6...|\n",
            "|  63.9980375585406|   64|[64.0,64.0,64.0,6...|\n",
            "| 63.99882357448076|   64|[64.0,64.0,64.0,6...|\n",
            "| 63.99990531952098|   64|[64.0,64.0,64.0,6...|\n",
            "| 64.00026289545339|   64|[64.0,64.0,64.0,6...|\n",
            "| 63.99987404847082|   64|[64.0,64.0,64.0,6...|\n",
            "| 64.00005680271342|   64|[64.0,64.0,64.0,6...|\n",
            "| 64.00013708667566|   64|[64.0,64.0,64.0,6...|\n",
            "| 64.02428154729458|   64|[64.0,64.0,65.0,6...|\n",
            "| 64.71462667091943|   65|[65.0,64.0,64.0,6...|\n",
            "| 64.10825744595395|   64|[64.0,64.0,65.0,6...|\n",
            "| 64.17954198350543|   64|[64.0,64.0,64.0,6...|\n",
            "+------------------+-----+--------------------+\n",
            "only showing top 100 rows\n",
            "\n"
          ]
        }
      ],
      "source": [
        "lr_predictions.select(\"prediction\",\"close\",\"features\").show(100)"
      ]
    },
    {
      "cell_type": "code",
      "execution_count": 238,
      "metadata": {
        "id": "Dbp8vGClGIyW"
      },
      "outputs": [],
      "source": [
        "from pyspark.ml.evaluation import RegressionEvaluator"
      ]
    },
    {
      "cell_type": "code",
      "execution_count": 240,
      "metadata": {
        "colab": {
          "base_uri": "https://localhost:8080/"
        },
        "id": "hMZ2ewOyGVoO",
        "outputId": "d8f0b7c6-1519-49ec-fbc8-a560317f5c70"
      },
      "outputs": [
        {
          "name": "stdout",
          "output_type": "stream",
          "text": [
            "R2 on test data = 0.97967\n"
          ]
        }
      ],
      "source": [
        "# R2:\n",
        "lr_evaluator = RegressionEvaluator(predictionCol=\"prediction\",\n",
        "                                   labelCol=\"close\",\n",
        "                                   metricName=\"r2\")\n",
        " \n",
        "print(\"R2 on test data = %g\" % lr_evaluator.evaluate(lr_predictions))"
      ]
    },
    {
      "cell_type": "code",
      "execution_count": 252,
      "metadata": {
        "id": "pQqpe5jwGW3v"
      },
      "outputs": [],
      "source": [
        "lr_model.write().overwrite().save(\"/content/drive/MyDrive/fo/models/predict/PKN.WA\")"
      ]
    },
    {
      "cell_type": "code",
      "execution_count": null,
      "metadata": {
        "id": "XNURr-lCLlFZ"
      },
      "outputs": [],
      "source": []
    }
  ],
  "metadata": {
    "colab": {
      "name": "01--postgresql.ipynb",
      "provenance": []
    },
    "kernelspec": {
      "display_name": "Python 3.11.1 64-bit",
      "language": "python",
      "name": "python3"
    },
    "language_info": {
      "codemirror_mode": {
        "name": "ipython",
        "version": 3
      },
      "file_extension": ".py",
      "mimetype": "text/x-python",
      "name": "python",
      "nbconvert_exporter": "python",
      "pygments_lexer": "ipython3",
      "version": "3.11.1"
    },
    "vscode": {
      "interpreter": {
        "hash": "1a1af0ee75eeea9e2e1ee996c87e7a2b11a0bebd85af04bb136d915cefc0abce"
      }
    }
  },
  "nbformat": 4,
  "nbformat_minor": 0
}
