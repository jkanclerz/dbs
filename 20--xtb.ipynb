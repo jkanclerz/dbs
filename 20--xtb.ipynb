{
 "cells": [
  {
   "cell_type": "code",
   "execution_count": null,
   "id": "3c8a156a",
   "metadata": {},
   "outputs": [],
   "source": [
    "USER_ID=\"YOUR_USER_ID\"\n",
    "PASSWORD=\"YOUR_USER_PASSWORD\""
   ]
  },
  {
   "cell_type": "markdown",
   "id": "287c9183",
   "metadata": {},
   "source": [
    "http://developers.xstore.pro/documentation/\n",
    "http://developers.xstore.pro/api/wrappers/2.5.0"
   ]
  },
  {
   "cell_type": "code",
   "execution_count": null,
   "id": "90fa5387",
   "metadata": {},
   "outputs": [],
   "source": [
    "from xAPIConnector import APIClient, APIStreamClient\n",
    "from xAPIConnector import loginCommand\n",
    "from xAPIConnector import procTickExample,procTradeExample,procProfitExample,procTradeStatusExample"
   ]
  },
  {
   "cell_type": "code",
   "execution_count": null,
   "id": "77b01aff",
   "metadata": {},
   "outputs": [],
   "source": [
    "client = APIClient()"
   ]
  },
  {
   "cell_type": "code",
   "execution_count": null,
   "id": "85a067a3",
   "metadata": {},
   "outputs": [],
   "source": [
    "loginR = client.execute(loginCommand(userId=USER_ID, password=\"PASSWORD\"))"
   ]
  },
  {
   "cell_type": "code",
   "execution_count": null,
   "id": "fc6a7dc7",
   "metadata": {},
   "outputs": [],
   "source": [
    "ssid = loginR['streamSessionId']"
   ]
  },
  {
   "cell_type": "code",
   "execution_count": null,
   "id": "1005e211",
   "metadata": {},
   "outputs": [],
   "source": [
    "sclient = APIStreamClient(ssId=ssid, tickFun=procTickExample, tradeFun=procTradeExample, profitFun=procProfitExample, tradeStatusFun=procTradeStatusExample)"
   ]
  },
  {
   "cell_type": "code",
   "execution_count": null,
   "id": "b8d2701f",
   "metadata": {},
   "outputs": [],
   "source": [
    "sclient.subscribePrices([\"EURUSD\", \"EURPLN\"])"
   ]
  },
  {
   "cell_type": "code",
   "execution_count": null,
   "id": "8a5e38fd",
   "metadata": {},
   "outputs": [],
   "source": [
    "from pprint import pprint as pp\n",
    "\n",
    "def handleCandle(item):\n",
    "    pp(item)"
   ]
  },
  {
   "cell_type": "code",
   "execution_count": null,
   "id": "997c8321",
   "metadata": {},
   "outputs": [],
   "source": [
    "sclient = APIStreamClient(ssId=ssid, candleFun=handleCandle)"
   ]
  },
  {
   "cell_type": "code",
   "execution_count": null,
   "id": "3572abcc",
   "metadata": {},
   "outputs": [],
   "source": [
    "sclient.subscribeCandles(symbol=\"EURPLN\")"
   ]
  },
  {
   "cell_type": "code",
   "execution_count": null,
   "id": "8b5e0ff4",
   "metadata": {},
   "outputs": [],
   "source": [
    "sclient.disconnect()"
   ]
  },
  {
   "cell_type": "code",
   "execution_count": null,
   "id": "4d967988",
   "metadata": {},
   "outputs": [],
   "source": [
    "client.disconnect()"
   ]
  },
  {
   "cell_type": "code",
   "execution_count": null,
   "id": "30b359cd",
   "metadata": {},
   "outputs": [],
   "source": []
  }
 ],
 "metadata": {
  "kernelspec": {
   "display_name": "Python 3.11.1 64-bit",
   "language": "python",
   "name": "python3"
  },
  "language_info": {
   "codemirror_mode": {
    "name": "ipython",
    "version": 3
   },
   "file_extension": ".py",
   "mimetype": "text/x-python",
   "name": "python",
   "nbconvert_exporter": "python",
   "pygments_lexer": "ipython3",
   "version": "3.11.1"
  },
  "vscode": {
   "interpreter": {
    "hash": "1a1af0ee75eeea9e2e1ee996c87e7a2b11a0bebd85af04bb136d915cefc0abce"
   }
  }
 },
 "nbformat": 4,
 "nbformat_minor": 5
}
